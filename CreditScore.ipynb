{
 "cells": [
  {
   "cell_type": "code",
   "execution_count": 120,
   "metadata": {},
   "outputs": [],
   "source": [
    "import pandas as pd\n",
    "import seaborn as sns\n",
    "import matplotlib.pyplot as plt\n",
    "from sklearn.model_selection import train_test_split\n",
    "from sklearn import tree\n",
    "from sklearn.metrics import plot_roc_curve, roc_auc_score, roc_curve\n"
   ]
  },
  {
   "cell_type": "markdown",
   "metadata": {},
   "source": [
    "First we are going to load the dataset, which is the accepted files from The Lending Club published in Kaggle data science contest platform as public pseudonymised files in compressed csv format. The information can be downloaded from https://www.kaggle.com/datasets/wordsforthewise/lending-club?resource=download"
   ]
  },
  {
   "cell_type": "code",
   "execution_count": 81,
   "metadata": {},
   "outputs": [
    {
     "name": "stderr",
     "output_type": "stream",
     "text": [
      "c:\\Users\\jjsal\\AppData\\Local\\Programs\\Python\\Python38\\lib\\site-packages\\IPython\\core\\interactiveshell.py:3553: DtypeWarning: Columns (0,19,49,59,118,129,130,131,134,135,136,139,145,146,147) have mixed types.Specify dtype option on import or set low_memory=False.\n",
      "  exec(code_obj, self.user_global_ns, self.user_ns)\n"
     ]
    },
    {
     "name": "stdout",
     "output_type": "stream",
     "text": [
      "<class 'pandas.core.frame.DataFrame'>\n",
      "RangeIndex: 2260701 entries, 0 to 2260700\n",
      "Columns: 151 entries, id to settlement_term\n",
      "dtypes: float64(113), object(38)\n",
      "memory usage: 2.5+ GB\n"
     ]
    }
   ],
   "source": [
    "df=pd.read_csv('accepted_2007_to_2018Q4.csv.gz', compression='gzip')\n",
    "df.info() # We can see that our data has 2.26 million observations with 151 variables"
   ]
  },
  {
   "cell_type": "code",
   "execution_count": 82,
   "metadata": {},
   "outputs": [
    {
     "data": {
      "text/html": [
       "<div>\n",
       "<style scoped>\n",
       "    .dataframe tbody tr th:only-of-type {\n",
       "        vertical-align: middle;\n",
       "    }\n",
       "\n",
       "    .dataframe tbody tr th {\n",
       "        vertical-align: top;\n",
       "    }\n",
       "\n",
       "    .dataframe thead th {\n",
       "        text-align: right;\n",
       "    }\n",
       "</style>\n",
       "<table border=\"1\" class=\"dataframe\">\n",
       "  <thead>\n",
       "    <tr style=\"text-align: right;\">\n",
       "      <th></th>\n",
       "      <th>id</th>\n",
       "      <th>member_id</th>\n",
       "      <th>loan_amnt</th>\n",
       "      <th>funded_amnt</th>\n",
       "      <th>funded_amnt_inv</th>\n",
       "      <th>term</th>\n",
       "      <th>int_rate</th>\n",
       "      <th>installment</th>\n",
       "      <th>grade</th>\n",
       "      <th>sub_grade</th>\n",
       "      <th>...</th>\n",
       "      <th>hardship_payoff_balance_amount</th>\n",
       "      <th>hardship_last_payment_amount</th>\n",
       "      <th>disbursement_method</th>\n",
       "      <th>debt_settlement_flag</th>\n",
       "      <th>debt_settlement_flag_date</th>\n",
       "      <th>settlement_status</th>\n",
       "      <th>settlement_date</th>\n",
       "      <th>settlement_amount</th>\n",
       "      <th>settlement_percentage</th>\n",
       "      <th>settlement_term</th>\n",
       "    </tr>\n",
       "  </thead>\n",
       "  <tbody>\n",
       "    <tr>\n",
       "      <th>0</th>\n",
       "      <td>68407277</td>\n",
       "      <td>NaN</td>\n",
       "      <td>3600.0</td>\n",
       "      <td>3600.0</td>\n",
       "      <td>3600.0</td>\n",
       "      <td>36 months</td>\n",
       "      <td>13.99</td>\n",
       "      <td>123.03</td>\n",
       "      <td>C</td>\n",
       "      <td>C4</td>\n",
       "      <td>...</td>\n",
       "      <td>NaN</td>\n",
       "      <td>NaN</td>\n",
       "      <td>Cash</td>\n",
       "      <td>N</td>\n",
       "      <td>NaN</td>\n",
       "      <td>NaN</td>\n",
       "      <td>NaN</td>\n",
       "      <td>NaN</td>\n",
       "      <td>NaN</td>\n",
       "      <td>NaN</td>\n",
       "    </tr>\n",
       "    <tr>\n",
       "      <th>1</th>\n",
       "      <td>68355089</td>\n",
       "      <td>NaN</td>\n",
       "      <td>24700.0</td>\n",
       "      <td>24700.0</td>\n",
       "      <td>24700.0</td>\n",
       "      <td>36 months</td>\n",
       "      <td>11.99</td>\n",
       "      <td>820.28</td>\n",
       "      <td>C</td>\n",
       "      <td>C1</td>\n",
       "      <td>...</td>\n",
       "      <td>NaN</td>\n",
       "      <td>NaN</td>\n",
       "      <td>Cash</td>\n",
       "      <td>N</td>\n",
       "      <td>NaN</td>\n",
       "      <td>NaN</td>\n",
       "      <td>NaN</td>\n",
       "      <td>NaN</td>\n",
       "      <td>NaN</td>\n",
       "      <td>NaN</td>\n",
       "    </tr>\n",
       "    <tr>\n",
       "      <th>2</th>\n",
       "      <td>68341763</td>\n",
       "      <td>NaN</td>\n",
       "      <td>20000.0</td>\n",
       "      <td>20000.0</td>\n",
       "      <td>20000.0</td>\n",
       "      <td>60 months</td>\n",
       "      <td>10.78</td>\n",
       "      <td>432.66</td>\n",
       "      <td>B</td>\n",
       "      <td>B4</td>\n",
       "      <td>...</td>\n",
       "      <td>NaN</td>\n",
       "      <td>NaN</td>\n",
       "      <td>Cash</td>\n",
       "      <td>N</td>\n",
       "      <td>NaN</td>\n",
       "      <td>NaN</td>\n",
       "      <td>NaN</td>\n",
       "      <td>NaN</td>\n",
       "      <td>NaN</td>\n",
       "      <td>NaN</td>\n",
       "    </tr>\n",
       "    <tr>\n",
       "      <th>3</th>\n",
       "      <td>66310712</td>\n",
       "      <td>NaN</td>\n",
       "      <td>35000.0</td>\n",
       "      <td>35000.0</td>\n",
       "      <td>35000.0</td>\n",
       "      <td>60 months</td>\n",
       "      <td>14.85</td>\n",
       "      <td>829.90</td>\n",
       "      <td>C</td>\n",
       "      <td>C5</td>\n",
       "      <td>...</td>\n",
       "      <td>NaN</td>\n",
       "      <td>NaN</td>\n",
       "      <td>Cash</td>\n",
       "      <td>N</td>\n",
       "      <td>NaN</td>\n",
       "      <td>NaN</td>\n",
       "      <td>NaN</td>\n",
       "      <td>NaN</td>\n",
       "      <td>NaN</td>\n",
       "      <td>NaN</td>\n",
       "    </tr>\n",
       "    <tr>\n",
       "      <th>4</th>\n",
       "      <td>68476807</td>\n",
       "      <td>NaN</td>\n",
       "      <td>10400.0</td>\n",
       "      <td>10400.0</td>\n",
       "      <td>10400.0</td>\n",
       "      <td>60 months</td>\n",
       "      <td>22.45</td>\n",
       "      <td>289.91</td>\n",
       "      <td>F</td>\n",
       "      <td>F1</td>\n",
       "      <td>...</td>\n",
       "      <td>NaN</td>\n",
       "      <td>NaN</td>\n",
       "      <td>Cash</td>\n",
       "      <td>N</td>\n",
       "      <td>NaN</td>\n",
       "      <td>NaN</td>\n",
       "      <td>NaN</td>\n",
       "      <td>NaN</td>\n",
       "      <td>NaN</td>\n",
       "      <td>NaN</td>\n",
       "    </tr>\n",
       "  </tbody>\n",
       "</table>\n",
       "<p>5 rows × 151 columns</p>\n",
       "</div>"
      ],
      "text/plain": [
       "         id  member_id  loan_amnt  funded_amnt  funded_amnt_inv        term  \\\n",
       "0  68407277        NaN     3600.0       3600.0           3600.0   36 months   \n",
       "1  68355089        NaN    24700.0      24700.0          24700.0   36 months   \n",
       "2  68341763        NaN    20000.0      20000.0          20000.0   60 months   \n",
       "3  66310712        NaN    35000.0      35000.0          35000.0   60 months   \n",
       "4  68476807        NaN    10400.0      10400.0          10400.0   60 months   \n",
       "\n",
       "   int_rate  installment grade sub_grade  ... hardship_payoff_balance_amount  \\\n",
       "0     13.99       123.03     C        C4  ...                            NaN   \n",
       "1     11.99       820.28     C        C1  ...                            NaN   \n",
       "2     10.78       432.66     B        B4  ...                            NaN   \n",
       "3     14.85       829.90     C        C5  ...                            NaN   \n",
       "4     22.45       289.91     F        F1  ...                            NaN   \n",
       "\n",
       "  hardship_last_payment_amount disbursement_method  debt_settlement_flag  \\\n",
       "0                          NaN                Cash                     N   \n",
       "1                          NaN                Cash                     N   \n",
       "2                          NaN                Cash                     N   \n",
       "3                          NaN                Cash                     N   \n",
       "4                          NaN                Cash                     N   \n",
       "\n",
       "  debt_settlement_flag_date settlement_status settlement_date  \\\n",
       "0                       NaN               NaN             NaN   \n",
       "1                       NaN               NaN             NaN   \n",
       "2                       NaN               NaN             NaN   \n",
       "3                       NaN               NaN             NaN   \n",
       "4                       NaN               NaN             NaN   \n",
       "\n",
       "  settlement_amount settlement_percentage settlement_term  \n",
       "0               NaN                   NaN             NaN  \n",
       "1               NaN                   NaN             NaN  \n",
       "2               NaN                   NaN             NaN  \n",
       "3               NaN                   NaN             NaN  \n",
       "4               NaN                   NaN             NaN  \n",
       "\n",
       "[5 rows x 151 columns]"
      ]
     },
     "execution_count": 82,
     "metadata": {},
     "output_type": "execute_result"
    }
   ],
   "source": [
    "df.head(5)"
   ]
  },
  {
   "cell_type": "markdown",
   "metadata": {},
   "source": [
    "### Time span of the dataset"
   ]
  },
  {
   "cell_type": "markdown",
   "metadata": {},
   "source": [
    "Let's start by analising the colum `issue_d` which is the month of funding. This will enable us to understand how the credits are spread over time. Let's see how this column is formatted."
   ]
  },
  {
   "cell_type": "code",
   "execution_count": 83,
   "metadata": {},
   "outputs": [
    {
     "data": {
      "text/plain": [
       "count      2260668\n",
       "unique         139\n",
       "top       Mar-2016\n",
       "freq         61992\n",
       "Name: issue_d, dtype: object"
      ]
     },
     "execution_count": 83,
     "metadata": {},
     "output_type": "execute_result"
    }
   ],
   "source": [
    "df.issue_d.describe()"
   ]
  },
  {
   "cell_type": "code",
   "execution_count": 84,
   "metadata": {},
   "outputs": [
    {
     "data": {
      "text/plain": [
       "Mar-2016    61992\n",
       "Oct-2015    48631\n",
       "May-2018    46311\n",
       "Oct-2018    46305\n",
       "Aug-2018    46079\n",
       "            ...  \n",
       "Aug-2007       74\n",
       "Jul-2007       63\n",
       "Sep-2008       57\n",
       "Sep-2007       53\n",
       "Jun-2007       24\n",
       "Name: issue_d, Length: 139, dtype: int64"
      ]
     },
     "execution_count": 84,
     "metadata": {},
     "output_type": "execute_result"
    }
   ],
   "source": [
    "df['issue_d'].value_counts()"
   ]
  },
  {
   "cell_type": "markdown",
   "metadata": {},
   "source": [
    "So we see inmediately that we will have an issue, as this is not formatted as a Date objet, but more like a text we can read. "
   ]
  },
  {
   "cell_type": "code",
   "execution_count": 85,
   "metadata": {},
   "outputs": [
    {
     "data": {
      "text/plain": [
       "2018    495242\n",
       "2017    443579\n",
       "2016    434407\n",
       "2015    421095\n",
       "2014    235629\n",
       "2013    134814\n",
       "2012     53367\n",
       "2011     21721\n",
       "2010     12537\n",
       "2009      5281\n",
       "2008      2393\n",
       "2007       603\n",
       "Name: issue_ty, dtype: int64"
      ]
     },
     "execution_count": 85,
     "metadata": {},
     "output_type": "execute_result"
    }
   ],
   "source": [
    "df['issue_ty'] = df['issue_d'].str[-4:]\n",
    "df.dropna(subset=['issue_ty'], inplace=True)\n",
    "df['issue_ty'] = df['issue_ty'].astype(str).astype(int)\n",
    "df['issue_ty'].value_counts()"
   ]
  },
  {
   "cell_type": "code",
   "execution_count": 86,
   "metadata": {},
   "outputs": [
    {
     "data": {
      "text/plain": [
       "Text(0, 0.5, 'Frequency')"
      ]
     },
     "execution_count": 86,
     "metadata": {},
     "output_type": "execute_result"
    },
    {
     "data": {
      "image/png": "[encoded data removed]",
      "text/plain": [
       "<Figure size 432x288 with 1 Axes>"
      ]
     },
     "metadata": {
      "needs_background": "light"
     },
     "output_type": "display_data"
    }
   ],
   "source": [
    "plot=sns.countplot(x=df.issue_ty, color='#76B982')\n",
    "plot.set_xlabel(None)\n",
    "plot.set_ylabel('Frequency')"
   ]
  },
  {
   "cell_type": "code",
   "execution_count": 87,
   "metadata": {},
   "outputs": [
    {
     "data": {
      "text/plain": [
       "<AxesSubplot:xlabel='int_rate', ylabel='Density'>"
      ]
     },
     "execution_count": 87,
     "metadata": {},
     "output_type": "execute_result"
    },
    {
     "data": {
      "image/png": "[encoded data removed]",
      "text/plain": [
       "<Figure size 1152x288 with 2 Axes>"
      ]
     },
     "metadata": {
      "needs_background": "light"
     },
     "output_type": "display_data"
    }
   ],
   "source": [
    "plot2, (ax1, ax2) = plt.subplots(1,2, figsize=(16, 4))\n",
    "plot2.suptitle('Amount and interest rate distribution')\n",
    "sns.kdeplot(ax=ax1, x=df.loan_amnt)\n",
    "sns.kdeplot(ax=ax2, x=df.int_rate)"
   ]
  },
  {
   "cell_type": "code",
   "execution_count": 88,
   "metadata": {},
   "outputs": [],
   "source": [
    "df['termM']=df['term'].str[:3].astype(int)"
   ]
  },
  {
   "cell_type": "code",
   "execution_count": 89,
   "metadata": {},
   "outputs": [
    {
     "data": {
      "text/plain": [
       "36    1609754\n",
       "60     650914\n",
       "Name: termM, dtype: int64"
      ]
     },
     "execution_count": 89,
     "metadata": {},
     "output_type": "execute_result"
    }
   ],
   "source": [
    "df.termM.value_counts()"
   ]
  },
  {
   "cell_type": "markdown",
   "metadata": {},
   "source": [
    "# Credit Model\n",
    "Target is to define a credti score model that will evaluate what is the probability a credit will be defaulte. We are going to look at the `loan_status` column to give us this information."
   ]
  },
  {
   "cell_type": "code",
   "execution_count": 90,
   "metadata": {},
   "outputs": [
    {
     "data": {
      "text/plain": [
       "Fully Paid                                             1076751\n",
       "Current                                                 878317\n",
       "Charged Off                                             268559\n",
       "Late (31-120 days)                                       21467\n",
       "In Grace Period                                           8436\n",
       "Late (16-30 days)                                         4349\n",
       "Does not meet the credit policy. Status:Fully Paid        1988\n",
       "Does not meet the credit policy. Status:Charged Off        761\n",
       "Default                                                     40\n",
       "Name: loan_status, dtype: int64"
      ]
     },
     "execution_count": 90,
     "metadata": {},
     "output_type": "execute_result"
    }
   ],
   "source": [
    "df['loan_status'].value_counts()"
   ]
  },
  {
   "cell_type": "markdown",
   "metadata": {},
   "source": [
    "So interesting different values.\n",
    "* `fully paid` means we have no default, although a more in depth work would check this in more detail.\n",
    "* `Current` means credit is on-going and hasn't presented any problems. No Default.\n",
    "* `Charged off` means credit had been sent to losses because of a default.\n",
    "* etc.\n",
    "\n",
    "To build a score we need a binary categorical approach to this variable: Defaulted Yes or No. We will regroup these categories and build a new column `default` that will represent the target of our score."
   ]
  },
  {
   "cell_type": "code",
   "execution_count": 91,
   "metadata": {},
   "outputs": [
    {
     "data": {
      "text/plain": [
       "False    1969841\n",
       "True      290827\n",
       "Name: default, dtype: int64"
      ]
     },
     "execution_count": 91,
     "metadata": {},
     "output_type": "execute_result"
    }
   ],
   "source": [
    "isdefault=['Charged Off', 'Late (31-120 days)', 'Does not meet the credit policy. Status:Charged Off', 'Default']\n",
    "df['default']=df['loan_status'].isin(isdefault)\n",
    "df['default'].value_counts()"
   ]
  },
  {
   "cell_type": "code",
   "execution_count": 92,
   "metadata": {},
   "outputs": [
    {
     "name": "stdout",
     "output_type": "stream",
     "text": [
      "Default Rate: 12.86%\n"
     ]
    }
   ],
   "source": [
    "drate=df['default'].value_counts()[True]/df.shape[0]*100\n",
    "print(\"Default Rate: {0:.2f}%\".format(drate))"
   ]
  },
  {
   "cell_type": "markdown",
   "metadata": {},
   "source": [
    "The default rate is high, but we have to recall that:\n",
    "* This is crowlending data, so these site attracts typically more risky clients, who had been refused credits by banks.\n",
    "* This is a lifetime default value, minurs the bias form on-going credits"
   ]
  },
  {
   "cell_type": "markdown",
   "metadata": {},
   "source": [
    "## Features of the score\n",
    "Now we will analise"
   ]
  },
  {
   "cell_type": "markdown",
   "metadata": {},
   "source": [
    "### Credit bureau risk grading\n",
    "there is s"
   ]
  },
  {
   "cell_type": "code",
   "execution_count": 93,
   "metadata": {},
   "outputs": [
    {
     "data": {
      "text/plain": [
       "B    663557\n",
       "C    650053\n",
       "A    433027\n",
       "D    324424\n",
       "E    135639\n",
       "F     41800\n",
       "G     12168\n",
       "Name: grade, dtype: int64"
      ]
     },
     "execution_count": 93,
     "metadata": {},
     "output_type": "execute_result"
    }
   ],
   "source": [
    "df['grade'].value_counts()"
   ]
  },
  {
   "cell_type": "code",
   "execution_count": 94,
   "metadata": {},
   "outputs": [
    {
     "data": {
      "text/plain": [
       "C1    145903\n",
       "B5    140288\n",
       "B4    139793\n",
       "B3    131514\n",
       "C2    131116\n",
       "C3    129193\n",
       "C4    127115\n",
       "B2    126621\n",
       "B1    125341\n",
       "C5    116726\n",
       "A5    107617\n",
       "A4     95874\n",
       "A1     86790\n",
       "D1     81787\n",
       "A3     73184\n",
       "D2     72899\n",
       "A2     69562\n",
       "D3     64819\n",
       "D4     56896\n",
       "D5     48023\n",
       "E1     33573\n",
       "E2     29924\n",
       "E3     26708\n",
       "E4     22763\n",
       "E5     22671\n",
       "F1     13413\n",
       "F2      9305\n",
       "F3      7791\n",
       "F4      6124\n",
       "F5      5167\n",
       "G1      4106\n",
       "G2      2688\n",
       "G3      2094\n",
       "G4      1712\n",
       "G5      1568\n",
       "Name: sub_grade, dtype: int64"
      ]
     },
     "execution_count": 94,
     "metadata": {},
     "output_type": "execute_result"
    }
   ],
   "source": [
    "df['sub_grade'].value_counts()"
   ]
  },
  {
   "cell_type": "code",
   "execution_count": 95,
   "metadata": {},
   "outputs": [
    {
     "data": {
      "text/plain": [
       "<AxesSubplot:xlabel='default', ylabel='sub_grade'>"
      ]
     },
     "execution_count": 95,
     "metadata": {},
     "output_type": "execute_result"
    },
    {
     "data": {
      "image/png": "[encoded data removed]",
      "text/plain": [
       "<Figure size 576x576 with 1 Axes>"
      ]
     },
     "metadata": {
      "needs_background": "light"
     },
     "output_type": "display_data"
    }
   ],
   "source": [
    "def_by_subgrade=(df.groupby('sub_grade')['default'].mean()*100) \n",
    "plot3, ax = plt.subplots(figsize=(8, 8))\n",
    "sns.barplot(ax=ax, y=def_by_subgrade.index, x=def_by_subgrade)"
   ]
  },
  {
   "cell_type": "code",
   "execution_count": 96,
   "metadata": {},
   "outputs": [
    {
     "name": "stdout",
     "output_type": "stream",
     "text": [
      "{'A1': 1, 'A2': 2, 'A3': 3, 'A4': 4, 'A5': 5, 'B1': 6, 'B2': 7, 'B3': 8, 'B4': 9, 'B5': 10, 'C1': 11, 'C2': 12, 'C3': 13, 'C4': 14, 'C5': 15, 'D1': 16, 'D2': 17, 'D3': 18, 'D4': 19, 'D5': 20, 'E1': 21, 'E2': 22, 'E3': 23, 'E4': 24, 'E5': 25, 'F1': 26, 'F2': 27, 'F3': 28, 'F4': 29, 'F5': 30, 'G1': 31, 'G2': 32, 'G3': 33, 'G4': 34, 'G5': 35}\n"
     ]
    }
   ],
   "source": [
    "sub_grade_list = list(df['sub_grade'].unique())\n",
    "sub_grade_list.sort()\n",
    "sub_grade_map = dict(zip(sub_grade_list, list(range(1,len(sub_grade_list)+1))))\n",
    "print(sub_grade_map)"
   ]
  },
  {
   "cell_type": "code",
   "execution_count": 97,
   "metadata": {},
   "outputs": [
    {
     "data": {
      "text/plain": [
       "877193     B3\n",
       "241430     E2\n",
       "1866300    C2\n",
       "1812760    E2\n",
       "1034488    C3\n",
       "1156192    A1\n",
       "255387     D4\n",
       "877647     A1\n",
       "866605     A5\n",
       "1260964    C5\n",
       "Name: sub_grade, dtype: object"
      ]
     },
     "execution_count": 97,
     "metadata": {},
     "output_type": "execute_result"
    }
   ],
   "source": [
    "df['sub_grade'].sample(10)"
   ]
  },
  {
   "cell_type": "code",
   "execution_count": 98,
   "metadata": {},
   "outputs": [
    {
     "data": {
      "text/plain": [
       "1844829     9\n",
       "1365696     4\n",
       "1786261    23\n",
       "1418727    17\n",
       "883446     10\n",
       "269671     16\n",
       "94329       7\n",
       "2253109    13\n",
       "151511     12\n",
       "1510524    13\n",
       "Name: sub_grade, dtype: int64"
      ]
     },
     "execution_count": 98,
     "metadata": {},
     "output_type": "execute_result"
    }
   ],
   "source": [
    "df.replace({'sub_grade':sub_grade_map}, inplace=True)\n",
    "df['sub_grade'].sample(10)"
   ]
  },
  {
   "cell_type": "code",
   "execution_count": 99,
   "metadata": {},
   "outputs": [
    {
     "data": {
      "text/plain": [
       "array([14, 11,  9, 15, 26, 13,  7,  6,  2, 10, 12, 22,  4, 23,  1, 19, 28,\n",
       "       16,  8, 24, 18, 17, 20,  5, 27, 21, 30, 25,  3, 32, 31, 33, 34, 29,\n",
       "       35], dtype=int64)"
      ]
     },
     "execution_count": 99,
     "metadata": {},
     "output_type": "execute_result"
    }
   ],
   "source": [
    "df['sub_grade'].unique()"
   ]
  },
  {
   "cell_type": "code",
   "execution_count": 100,
   "metadata": {},
   "outputs": [],
   "source": [
    "features_name=[]"
   ]
  },
  {
   "cell_type": "code",
   "execution_count": 101,
   "metadata": {},
   "outputs": [],
   "source": [
    "features_name.append('sub_grade')"
   ]
  },
  {
   "cell_type": "code",
   "execution_count": 102,
   "metadata": {},
   "outputs": [
    {
     "data": {
      "text/plain": [
       "(1.0, 2000000.0)"
      ]
     },
     "execution_count": 102,
     "metadata": {},
     "output_type": "execute_result"
    },
    {
     "data": {
      "image/png": "[encoded data removed]",
      "text/plain": [
       "<Figure size 1440x288 with 1 Axes>"
      ]
     },
     "metadata": {
      "needs_background": "light"
     },
     "output_type": "display_data"
    }
   ],
   "source": [
    "plot4, ax = plt.subplots(figsize=(20, 4))\n",
    "sns.kdeplot(ax=ax, x=df['annual_inc'])\n",
    "ax.set_xlim(1,2e6)"
   ]
  },
  {
   "cell_type": "code",
   "execution_count": 103,
   "metadata": {},
   "outputs": [],
   "source": [
    "features_name.append('annual_inc')"
   ]
  },
  {
   "cell_type": "code",
   "execution_count": 104,
   "metadata": {},
   "outputs": [
    {
     "data": {
      "text/plain": [
       "MORTGAGE    1111450\n",
       "RENT         894929\n",
       "OWN          253057\n",
       "ANY             996\n",
       "OTHER           182\n",
       "NONE             54\n",
       "Name: home_ownership, dtype: int64"
      ]
     },
     "execution_count": 104,
     "metadata": {},
     "output_type": "execute_result"
    }
   ],
   "source": [
    "df['home_ownership'].value_counts()"
   ]
  },
  {
   "cell_type": "code",
   "execution_count": 105,
   "metadata": {},
   "outputs": [
    {
     "data": {
      "text/plain": [
       "{'MORTGAGE': 'MORTGAGE',\n",
       " 'RENT': 'RENT',\n",
       " 'OWN': 'OWN',\n",
       " 'ANY': 'UNKNOWN',\n",
       " 'NONE': 'UNKNOWN',\n",
       " 'OTHER': 'UNKNOWN'}"
      ]
     },
     "execution_count": 105,
     "metadata": {},
     "output_type": "execute_result"
    }
   ],
   "source": [
    "home_ownership_values=df['home_ownership'].unique()\n",
    "home_ownership_map=dict(zip(home_ownership_values,home_ownership_values)) # At this stage this is an identity map\n",
    "home_ownership_map['ANY']='UNKNOWN'\n",
    "home_ownership_map['OTHER']='UNKNOWN'\n",
    "home_ownership_map['NONE']='UNKNOWN'\n",
    "home_ownership_map"
   ]
  },
  {
   "cell_type": "code",
   "execution_count": 106,
   "metadata": {},
   "outputs": [
    {
     "data": {
      "text/plain": [
       "MORTGAGE    1111450\n",
       "RENT         894929\n",
       "OWN          253057\n",
       "UNKNOWN        1232\n",
       "Name: home_ownership, dtype: int64"
      ]
     },
     "execution_count": 106,
     "metadata": {},
     "output_type": "execute_result"
    }
   ],
   "source": [
    "df.replace({'home_ownership':home_ownership_map}, inplace=True)\n",
    "df['home_ownership'].value_counts()"
   ]
  },
  {
   "cell_type": "code",
   "execution_count": 107,
   "metadata": {},
   "outputs": [
    {
     "data": {
      "text/plain": [
       "home_ownership\n",
       "MORTGAGE    11.174952\n",
       "OWN         12.885239\n",
       "RENT        14.961634\n",
       "UNKNOWN      9.740260\n",
       "Name: default, dtype: float64"
      ]
     },
     "execution_count": 107,
     "metadata": {},
     "output_type": "execute_result"
    }
   ],
   "source": [
    "df.groupby('home_ownership')['default'].mean()*100"
   ]
  },
  {
   "cell_type": "code",
   "execution_count": 108,
   "metadata": {},
   "outputs": [
    {
     "data": {
      "text/plain": [
       "home_MORTGAGE  home_OWN  home_RENT  home_UNKNOWN\n",
       "1              0         0          0               1111450\n",
       "0              0         1          0                894929\n",
       "               1         0          0                253057\n",
       "               0         0          1                  1232\n",
       "dtype: int64"
      ]
     },
     "execution_count": 108,
     "metadata": {},
     "output_type": "execute_result"
    }
   ],
   "source": [
    "one_hot_home_ownership = pd.get_dummies(df['home_ownership'], prefix='home')\n",
    "one_hot_home_ownership.value_counts()"
   ]
  },
  {
   "cell_type": "code",
   "execution_count": 109,
   "metadata": {},
   "outputs": [],
   "source": [
    "features_df=[df, one_hot_home_ownership]\n",
    "features_name += list(one_hot_home_ownership.columns)"
   ]
  },
  {
   "cell_type": "code",
   "execution_count": 110,
   "metadata": {},
   "outputs": [
    {
     "data": {
      "text/plain": [
       "['sub_grade',\n",
       " 'annual_inc',\n",
       " 'home_MORTGAGE',\n",
       " 'home_OWN',\n",
       " 'home_RENT',\n",
       " 'home_UNKNOWN']"
      ]
     },
     "execution_count": 110,
     "metadata": {},
     "output_type": "execute_result"
    }
   ],
   "source": [
    "features_name"
   ]
  },
  {
   "cell_type": "markdown",
   "metadata": {},
   "source": [
    "### Employee title"
   ]
  },
  {
   "cell_type": "code",
   "execution_count": 111,
   "metadata": {},
   "outputs": [
    {
     "data": {
      "text/plain": [
       "Index(['teacher', 'manager', 'registered nurse', 'owner', 'driver',\n",
       "       'supervisor', 'sales', 'office manager', 'project manager',\n",
       "       'general manager',\n",
       "       ...\n",
       "       'intent analyst', 'associate chief judge', 'sectreary',\n",
       "       'mrketing specialist', 'direct care/courier ',\n",
       "       'residential nurse manager', 'special agent supervisor ',\n",
       "       'relay technician principal', 'fns supervisor',\n",
       "       'exec dir internal audit'],\n",
       "      dtype='object', length=438349)"
      ]
     },
     "execution_count": 111,
     "metadata": {},
     "output_type": "execute_result"
    }
   ],
   "source": [
    "df['emp_title'] = df['emp_title'].str.lower()\n",
    "df['emp_title'] = df['emp_title'].replace(['rn'],'registered nurse')\n",
    "emp_title=df['emp_title'].value_counts()\n",
    "emp_title.index\n"
   ]
  },
  {
   "cell_type": "code",
   "execution_count": 74,
   "metadata": {},
   "outputs": [
    {
     "data": {
      "text/plain": [
       "teacher                     46125\n",
       "manager                     42822\n",
       "registered nurse            36808\n",
       "owner                       31740\n",
       "driver                      20786\n",
       "supervisor                  18560\n",
       "sales                       17647\n",
       "office manager              13163\n",
       "project manager             12891\n",
       "general manager             12111\n",
       "truck driver                11144\n",
       "director                     9619\n",
       "president                    9032\n",
       "engineer                     8498\n",
       "sales manager                7872\n",
       "operations manager           7486\n",
       "nurse                        6864\n",
       "police officer               6778\n",
       "vice president               6600\n",
       "store manager                6488\n",
       "accountant                   6401\n",
       "technician                   6034\n",
       "administrative assistant     5997\n",
       "attorney                     5939\n",
       "account manager              5735\n",
       "Name: emp_title, dtype: int64"
      ]
     },
     "execution_count": 74,
     "metadata": {},
     "output_type": "execute_result"
    }
   ],
   "source": [
    "emp_title.head(25)"
   ]
  },
  {
   "cell_type": "code",
   "execution_count": 112,
   "metadata": {},
   "outputs": [
    {
     "data": {
      "text/plain": [
       "Index(['teacher', 'manager', 'registered nurse', 'owner', 'driver',\n",
       "       'supervisor', 'sales', 'office manager', 'project manager',\n",
       "       'general manager', 'truck driver', 'director', 'president', 'engineer',\n",
       "       'sales manager', 'operations manager', 'nurse', 'police officer',\n",
       "       'vice president', 'store manager', 'accountant', 'technician',\n",
       "       'administrative assistant', 'attorney', 'account manager', 'mechanic',\n",
       "       'server'],\n",
       "      dtype='object')"
      ]
     },
     "execution_count": 112,
     "metadata": {},
     "output_type": "execute_result"
    }
   ],
   "source": [
    "tr=5000\n",
    "emp_title_regrouped = emp_title[emp_title > tr]\n",
    "emp_title_regrouped.index"
   ]
  },
  {
   "cell_type": "code",
   "execution_count": 76,
   "metadata": {},
   "outputs": [
    {
     "data": {
      "text/plain": [
       "emp_title\n",
       "account manager             14.488636\n",
       "accountant                  12.655602\n",
       "administrative assistant    15.878378\n",
       "attorney                     6.614786\n",
       "director                    15.189873\n",
       "driver                      19.699220\n",
       "engineer                    14.242116\n",
       "general manager             18.395303\n",
       "manager                     18.059490\n",
       "mechanic                    15.922865\n",
       "nurse                       16.425121\n",
       "office manager              14.571657\n",
       "operations manager          12.835249\n",
       "owner                       15.340308\n",
       "police officer              12.320574\n",
       "president                   14.955135\n",
       "project manager             13.868613\n",
       "registered nurse            12.021106\n",
       "sales                       16.434469\n",
       "sales manager               19.117647\n",
       "server                      17.955326\n",
       "store manager               19.122610\n",
       "supervisor                  16.369214\n",
       "teacher                     12.283323\n",
       "technician                  16.591928\n",
       "truck driver                19.403974\n",
       "vice president              11.392405\n",
       "Name: default, dtype: float64"
      ]
     },
     "execution_count": 76,
     "metadata": {},
     "output_type": "execute_result"
    }
   ],
   "source": [
    "df[df['emp_title'].isin(emp_title_regrouped.index)].groupby('emp_title')['default'].mean()*100"
   ]
  },
  {
   "cell_type": "code",
   "execution_count": 113,
   "metadata": {},
   "outputs": [],
   "source": [
    "df.loc[~df['emp_title'].isin(emp_title_regrouped.index),'emp_title']='other'"
   ]
  },
  {
   "cell_type": "code",
   "execution_count": 114,
   "metadata": {},
   "outputs": [
    {
     "data": {
      "text/plain": [
       "other                       1885189\n",
       "teacher                       46125\n",
       "manager                       42822\n",
       "registered nurse              38079\n",
       "owner                         31740\n",
       "driver                        20786\n",
       "supervisor                    18560\n",
       "sales                         17647\n",
       "office manager                13163\n",
       "project manager               12891\n",
       "general manager               12111\n",
       "truck driver                  11144\n",
       "director                       9619\n",
       "president                      9032\n",
       "engineer                       8498\n",
       "sales manager                  7872\n",
       "operations manager             7486\n",
       "nurse                          6864\n",
       "police officer                 6778\n",
       "vice president                 6600\n",
       "store manager                  6488\n",
       "accountant                     6401\n",
       "technician                     6034\n",
       "administrative assistant       5997\n",
       "attorney                       5939\n",
       "account manager                5735\n",
       "mechanic                       5695\n",
       "server                         5373\n",
       "Name: emp_title, dtype: int64"
      ]
     },
     "execution_count": 114,
     "metadata": {},
     "output_type": "execute_result"
    }
   ],
   "source": [
    "df['emp_title'].value_counts()"
   ]
  },
  {
   "cell_type": "code",
   "execution_count": 115,
   "metadata": {},
   "outputs": [
    {
     "data": {
      "text/html": [
       "<div>\n",
       "<style scoped>\n",
       "    .dataframe tbody tr th:only-of-type {\n",
       "        vertical-align: middle;\n",
       "    }\n",
       "\n",
       "    .dataframe tbody tr th {\n",
       "        vertical-align: top;\n",
       "    }\n",
       "\n",
       "    .dataframe thead th {\n",
       "        text-align: right;\n",
       "    }\n",
       "</style>\n",
       "<table border=\"1\" class=\"dataframe\">\n",
       "  <thead>\n",
       "    <tr style=\"text-align: right;\">\n",
       "      <th></th>\n",
       "      <th>title_account manager</th>\n",
       "      <th>title_accountant</th>\n",
       "      <th>title_administrative assistant</th>\n",
       "      <th>title_attorney</th>\n",
       "      <th>title_director</th>\n",
       "      <th>title_driver</th>\n",
       "      <th>title_engineer</th>\n",
       "      <th>title_general manager</th>\n",
       "      <th>title_manager</th>\n",
       "      <th>title_mechanic</th>\n",
       "      <th>...</th>\n",
       "      <th>title_registered nurse</th>\n",
       "      <th>title_sales</th>\n",
       "      <th>title_sales manager</th>\n",
       "      <th>title_server</th>\n",
       "      <th>title_store manager</th>\n",
       "      <th>title_supervisor</th>\n",
       "      <th>title_teacher</th>\n",
       "      <th>title_technician</th>\n",
       "      <th>title_truck driver</th>\n",
       "      <th>title_vice president</th>\n",
       "    </tr>\n",
       "  </thead>\n",
       "  <tbody>\n",
       "    <tr>\n",
       "      <th>0</th>\n",
       "      <td>0</td>\n",
       "      <td>0</td>\n",
       "      <td>0</td>\n",
       "      <td>0</td>\n",
       "      <td>0</td>\n",
       "      <td>0</td>\n",
       "      <td>0</td>\n",
       "      <td>0</td>\n",
       "      <td>0</td>\n",
       "      <td>0</td>\n",
       "      <td>...</td>\n",
       "      <td>0</td>\n",
       "      <td>0</td>\n",
       "      <td>0</td>\n",
       "      <td>0</td>\n",
       "      <td>0</td>\n",
       "      <td>0</td>\n",
       "      <td>0</td>\n",
       "      <td>0</td>\n",
       "      <td>0</td>\n",
       "      <td>0</td>\n",
       "    </tr>\n",
       "    <tr>\n",
       "      <th>1</th>\n",
       "      <td>0</td>\n",
       "      <td>0</td>\n",
       "      <td>0</td>\n",
       "      <td>0</td>\n",
       "      <td>0</td>\n",
       "      <td>0</td>\n",
       "      <td>1</td>\n",
       "      <td>0</td>\n",
       "      <td>0</td>\n",
       "      <td>0</td>\n",
       "      <td>...</td>\n",
       "      <td>0</td>\n",
       "      <td>0</td>\n",
       "      <td>0</td>\n",
       "      <td>0</td>\n",
       "      <td>0</td>\n",
       "      <td>0</td>\n",
       "      <td>0</td>\n",
       "      <td>0</td>\n",
       "      <td>0</td>\n",
       "      <td>0</td>\n",
       "    </tr>\n",
       "    <tr>\n",
       "      <th>2</th>\n",
       "      <td>0</td>\n",
       "      <td>0</td>\n",
       "      <td>0</td>\n",
       "      <td>0</td>\n",
       "      <td>0</td>\n",
       "      <td>0</td>\n",
       "      <td>0</td>\n",
       "      <td>0</td>\n",
       "      <td>0</td>\n",
       "      <td>0</td>\n",
       "      <td>...</td>\n",
       "      <td>0</td>\n",
       "      <td>0</td>\n",
       "      <td>0</td>\n",
       "      <td>0</td>\n",
       "      <td>0</td>\n",
       "      <td>0</td>\n",
       "      <td>0</td>\n",
       "      <td>0</td>\n",
       "      <td>1</td>\n",
       "      <td>0</td>\n",
       "    </tr>\n",
       "    <tr>\n",
       "      <th>3</th>\n",
       "      <td>0</td>\n",
       "      <td>0</td>\n",
       "      <td>0</td>\n",
       "      <td>0</td>\n",
       "      <td>0</td>\n",
       "      <td>0</td>\n",
       "      <td>0</td>\n",
       "      <td>0</td>\n",
       "      <td>0</td>\n",
       "      <td>0</td>\n",
       "      <td>...</td>\n",
       "      <td>0</td>\n",
       "      <td>0</td>\n",
       "      <td>0</td>\n",
       "      <td>0</td>\n",
       "      <td>0</td>\n",
       "      <td>0</td>\n",
       "      <td>0</td>\n",
       "      <td>0</td>\n",
       "      <td>0</td>\n",
       "      <td>0</td>\n",
       "    </tr>\n",
       "    <tr>\n",
       "      <th>4</th>\n",
       "      <td>0</td>\n",
       "      <td>0</td>\n",
       "      <td>0</td>\n",
       "      <td>0</td>\n",
       "      <td>0</td>\n",
       "      <td>0</td>\n",
       "      <td>0</td>\n",
       "      <td>0</td>\n",
       "      <td>0</td>\n",
       "      <td>0</td>\n",
       "      <td>...</td>\n",
       "      <td>0</td>\n",
       "      <td>0</td>\n",
       "      <td>0</td>\n",
       "      <td>0</td>\n",
       "      <td>0</td>\n",
       "      <td>0</td>\n",
       "      <td>0</td>\n",
       "      <td>0</td>\n",
       "      <td>0</td>\n",
       "      <td>0</td>\n",
       "    </tr>\n",
       "    <tr>\n",
       "      <th>...</th>\n",
       "      <td>...</td>\n",
       "      <td>...</td>\n",
       "      <td>...</td>\n",
       "      <td>...</td>\n",
       "      <td>...</td>\n",
       "      <td>...</td>\n",
       "      <td>...</td>\n",
       "      <td>...</td>\n",
       "      <td>...</td>\n",
       "      <td>...</td>\n",
       "      <td>...</td>\n",
       "      <td>...</td>\n",
       "      <td>...</td>\n",
       "      <td>...</td>\n",
       "      <td>...</td>\n",
       "      <td>...</td>\n",
       "      <td>...</td>\n",
       "      <td>...</td>\n",
       "      <td>...</td>\n",
       "      <td>...</td>\n",
       "      <td>...</td>\n",
       "    </tr>\n",
       "    <tr>\n",
       "      <th>2260694</th>\n",
       "      <td>0</td>\n",
       "      <td>0</td>\n",
       "      <td>0</td>\n",
       "      <td>0</td>\n",
       "      <td>0</td>\n",
       "      <td>0</td>\n",
       "      <td>0</td>\n",
       "      <td>0</td>\n",
       "      <td>0</td>\n",
       "      <td>0</td>\n",
       "      <td>...</td>\n",
       "      <td>0</td>\n",
       "      <td>0</td>\n",
       "      <td>0</td>\n",
       "      <td>0</td>\n",
       "      <td>0</td>\n",
       "      <td>0</td>\n",
       "      <td>0</td>\n",
       "      <td>0</td>\n",
       "      <td>0</td>\n",
       "      <td>0</td>\n",
       "    </tr>\n",
       "    <tr>\n",
       "      <th>2260695</th>\n",
       "      <td>0</td>\n",
       "      <td>0</td>\n",
       "      <td>0</td>\n",
       "      <td>0</td>\n",
       "      <td>0</td>\n",
       "      <td>0</td>\n",
       "      <td>0</td>\n",
       "      <td>0</td>\n",
       "      <td>0</td>\n",
       "      <td>0</td>\n",
       "      <td>...</td>\n",
       "      <td>0</td>\n",
       "      <td>0</td>\n",
       "      <td>0</td>\n",
       "      <td>0</td>\n",
       "      <td>0</td>\n",
       "      <td>0</td>\n",
       "      <td>0</td>\n",
       "      <td>0</td>\n",
       "      <td>0</td>\n",
       "      <td>0</td>\n",
       "    </tr>\n",
       "    <tr>\n",
       "      <th>2260696</th>\n",
       "      <td>0</td>\n",
       "      <td>0</td>\n",
       "      <td>0</td>\n",
       "      <td>0</td>\n",
       "      <td>0</td>\n",
       "      <td>0</td>\n",
       "      <td>0</td>\n",
       "      <td>0</td>\n",
       "      <td>0</td>\n",
       "      <td>0</td>\n",
       "      <td>...</td>\n",
       "      <td>0</td>\n",
       "      <td>0</td>\n",
       "      <td>0</td>\n",
       "      <td>0</td>\n",
       "      <td>0</td>\n",
       "      <td>0</td>\n",
       "      <td>0</td>\n",
       "      <td>0</td>\n",
       "      <td>0</td>\n",
       "      <td>0</td>\n",
       "    </tr>\n",
       "    <tr>\n",
       "      <th>2260697</th>\n",
       "      <td>0</td>\n",
       "      <td>0</td>\n",
       "      <td>0</td>\n",
       "      <td>0</td>\n",
       "      <td>0</td>\n",
       "      <td>0</td>\n",
       "      <td>0</td>\n",
       "      <td>0</td>\n",
       "      <td>0</td>\n",
       "      <td>0</td>\n",
       "      <td>...</td>\n",
       "      <td>0</td>\n",
       "      <td>0</td>\n",
       "      <td>0</td>\n",
       "      <td>0</td>\n",
       "      <td>0</td>\n",
       "      <td>0</td>\n",
       "      <td>0</td>\n",
       "      <td>0</td>\n",
       "      <td>0</td>\n",
       "      <td>0</td>\n",
       "    </tr>\n",
       "    <tr>\n",
       "      <th>2260698</th>\n",
       "      <td>0</td>\n",
       "      <td>0</td>\n",
       "      <td>0</td>\n",
       "      <td>0</td>\n",
       "      <td>0</td>\n",
       "      <td>0</td>\n",
       "      <td>0</td>\n",
       "      <td>0</td>\n",
       "      <td>0</td>\n",
       "      <td>0</td>\n",
       "      <td>...</td>\n",
       "      <td>0</td>\n",
       "      <td>0</td>\n",
       "      <td>0</td>\n",
       "      <td>0</td>\n",
       "      <td>0</td>\n",
       "      <td>0</td>\n",
       "      <td>0</td>\n",
       "      <td>0</td>\n",
       "      <td>0</td>\n",
       "      <td>0</td>\n",
       "    </tr>\n",
       "  </tbody>\n",
       "</table>\n",
       "<p>2260668 rows × 28 columns</p>\n",
       "</div>"
      ],
      "text/plain": [
       "         title_account manager  title_accountant  \\\n",
       "0                            0                 0   \n",
       "1                            0                 0   \n",
       "2                            0                 0   \n",
       "3                            0                 0   \n",
       "4                            0                 0   \n",
       "...                        ...               ...   \n",
       "2260694                      0                 0   \n",
       "2260695                      0                 0   \n",
       "2260696                      0                 0   \n",
       "2260697                      0                 0   \n",
       "2260698                      0                 0   \n",
       "\n",
       "         title_administrative assistant  title_attorney  title_director  \\\n",
       "0                                     0               0               0   \n",
       "1                                     0               0               0   \n",
       "2                                     0               0               0   \n",
       "3                                     0               0               0   \n",
       "4                                     0               0               0   \n",
       "...                                 ...             ...             ...   \n",
       "2260694                               0               0               0   \n",
       "2260695                               0               0               0   \n",
       "2260696                               0               0               0   \n",
       "2260697                               0               0               0   \n",
       "2260698                               0               0               0   \n",
       "\n",
       "         title_driver  title_engineer  title_general manager  title_manager  \\\n",
       "0                   0               0                      0              0   \n",
       "1                   0               1                      0              0   \n",
       "2                   0               0                      0              0   \n",
       "3                   0               0                      0              0   \n",
       "4                   0               0                      0              0   \n",
       "...               ...             ...                    ...            ...   \n",
       "2260694             0               0                      0              0   \n",
       "2260695             0               0                      0              0   \n",
       "2260696             0               0                      0              0   \n",
       "2260697             0               0                      0              0   \n",
       "2260698             0               0                      0              0   \n",
       "\n",
       "         title_mechanic  ...  title_registered nurse  title_sales  \\\n",
       "0                     0  ...                       0            0   \n",
       "1                     0  ...                       0            0   \n",
       "2                     0  ...                       0            0   \n",
       "3                     0  ...                       0            0   \n",
       "4                     0  ...                       0            0   \n",
       "...                 ...  ...                     ...          ...   \n",
       "2260694               0  ...                       0            0   \n",
       "2260695               0  ...                       0            0   \n",
       "2260696               0  ...                       0            0   \n",
       "2260697               0  ...                       0            0   \n",
       "2260698               0  ...                       0            0   \n",
       "\n",
       "         title_sales manager  title_server  title_store manager  \\\n",
       "0                          0             0                    0   \n",
       "1                          0             0                    0   \n",
       "2                          0             0                    0   \n",
       "3                          0             0                    0   \n",
       "4                          0             0                    0   \n",
       "...                      ...           ...                  ...   \n",
       "2260694                    0             0                    0   \n",
       "2260695                    0             0                    0   \n",
       "2260696                    0             0                    0   \n",
       "2260697                    0             0                    0   \n",
       "2260698                    0             0                    0   \n",
       "\n",
       "         title_supervisor  title_teacher  title_technician  \\\n",
       "0                       0              0                 0   \n",
       "1                       0              0                 0   \n",
       "2                       0              0                 0   \n",
       "3                       0              0                 0   \n",
       "4                       0              0                 0   \n",
       "...                   ...            ...               ...   \n",
       "2260694                 0              0                 0   \n",
       "2260695                 0              0                 0   \n",
       "2260696                 0              0                 0   \n",
       "2260697                 0              0                 0   \n",
       "2260698                 0              0                 0   \n",
       "\n",
       "         title_truck driver  title_vice president  \n",
       "0                         0                     0  \n",
       "1                         0                     0  \n",
       "2                         1                     0  \n",
       "3                         0                     0  \n",
       "4                         0                     0  \n",
       "...                     ...                   ...  \n",
       "2260694                   0                     0  \n",
       "2260695                   0                     0  \n",
       "2260696                   0                     0  \n",
       "2260697                   0                     0  \n",
       "2260698                   0                     0  \n",
       "\n",
       "[2260668 rows x 28 columns]"
      ]
     },
     "execution_count": 115,
     "metadata": {},
     "output_type": "execute_result"
    }
   ],
   "source": [
    "one_hot_emp_title = pd.get_dummies(df['emp_title'], prefix='title')\n",
    "one_hot_emp_title"
   ]
  },
  {
   "cell_type": "code",
   "execution_count": 117,
   "metadata": {},
   "outputs": [
    {
     "data": {
      "text/plain": [
       "['sub_grade',\n",
       " 'annual_inc',\n",
       " 'home_MORTGAGE',\n",
       " 'home_OWN',\n",
       " 'home_RENT',\n",
       " 'home_UNKNOWN',\n",
       " 'title_account manager',\n",
       " 'title_accountant',\n",
       " 'title_administrative assistant',\n",
       " 'title_attorney',\n",
       " 'title_director',\n",
       " 'title_driver',\n",
       " 'title_engineer',\n",
       " 'title_general manager',\n",
       " 'title_manager',\n",
       " 'title_mechanic',\n",
       " 'title_nurse',\n",
       " 'title_office manager',\n",
       " 'title_operations manager',\n",
       " 'title_other',\n",
       " 'title_owner',\n",
       " 'title_police officer',\n",
       " 'title_president',\n",
       " 'title_project manager',\n",
       " 'title_registered nurse',\n",
       " 'title_sales',\n",
       " 'title_sales manager',\n",
       " 'title_server',\n",
       " 'title_store manager',\n",
       " 'title_supervisor',\n",
       " 'title_teacher',\n",
       " 'title_technician',\n",
       " 'title_truck driver',\n",
       " 'title_vice president']"
      ]
     },
     "execution_count": 117,
     "metadata": {},
     "output_type": "execute_result"
    }
   ],
   "source": [
    "features_df.append(one_hot_emp_title)\n",
    "features_name += list(one_hot_emp_title.columns)\n",
    "features_name"
   ]
  },
  {
   "cell_type": "markdown",
   "metadata": {},
   "source": [
    "### Employment length"
   ]
  },
  {
   "cell_type": "code",
   "execution_count": 124,
   "metadata": {},
   "outputs": [
    {
     "data": {
      "text/plain": [
       "array(['10+ years', '3 years', '4 years', '6 years', '1 year', '7 years',\n",
       "       '8 years', '5 years', '2 years', '9 years', '< 1 year', nan],\n",
       "      dtype=object)"
      ]
     },
     "execution_count": 124,
     "metadata": {},
     "output_type": "execute_result"
    }
   ],
   "source": [
    "emp_length_before = df['emp_length'].unique()\n",
    "emp_length_before"
   ]
  },
  {
   "cell_type": "code",
   "execution_count": 125,
   "metadata": {},
   "outputs": [
    {
     "data": {
      "text/plain": [
       "{'10+ years': 10,\n",
       " '3 years': 3,\n",
       " '4 years': 4,\n",
       " '6 years': 6,\n",
       " '1 year': 1,\n",
       " '7 years': 7,\n",
       " '8 years': 8,\n",
       " '5 years': 5,\n",
       " '2 years': 2,\n",
       " '9 years': 9,\n",
       " '< 1 year': 0}"
      ]
     },
     "execution_count": 125,
     "metadata": {},
     "output_type": "execute_result"
    }
   ],
   "source": [
    "emp_len_map_txt = df['emp_length'].unique()\n",
    "emp_len_map_num = [10,3,4,6,1,7,8,5,2,9,0]\n",
    "emp_len_map = dict(zip(emp_len_map_txt, emp_len_map_num))\n",
    "emp_len_map"
   ]
  },
  {
   "cell_type": "code",
   "execution_count": 126,
   "metadata": {},
   "outputs": [
    {
     "data": {
      "text/plain": [
       "10.0    748005\n",
       "2.0     203677\n",
       "0.0     189988\n",
       "3.0     180753\n",
       "1.0     148403\n",
       "5.0     139698\n",
       "4.0     136605\n",
       "6.0     102628\n",
       "7.0      92695\n",
       "8.0      91914\n",
       "9.0      79395\n",
       "Name: emp_length, dtype: int64"
      ]
     },
     "execution_count": 126,
     "metadata": {},
     "output_type": "execute_result"
    }
   ],
   "source": [
    "df.replace({'emp_length':emp_len_map}, inplace=True)\n",
    "df['emp_length'].value_counts()"
   ]
  },
  {
   "cell_type": "code",
   "execution_count": 127,
   "metadata": {},
   "outputs": [
    {
     "data": {
      "text/plain": [
       "['sub_grade',\n",
       " 'annual_inc',\n",
       " 'home_MORTGAGE',\n",
       " 'home_OWN',\n",
       " 'home_RENT',\n",
       " 'home_UNKNOWN',\n",
       " 'title_account manager',\n",
       " 'title_accountant',\n",
       " 'title_administrative assistant',\n",
       " 'title_attorney',\n",
       " 'title_director',\n",
       " 'title_driver',\n",
       " 'title_engineer',\n",
       " 'title_general manager',\n",
       " 'title_manager',\n",
       " 'title_mechanic',\n",
       " 'title_nurse',\n",
       " 'title_office manager',\n",
       " 'title_operations manager',\n",
       " 'title_other',\n",
       " 'title_owner',\n",
       " 'title_police officer',\n",
       " 'title_president',\n",
       " 'title_project manager',\n",
       " 'title_registered nurse',\n",
       " 'title_sales',\n",
       " 'title_sales manager',\n",
       " 'title_server',\n",
       " 'title_store manager',\n",
       " 'title_supervisor',\n",
       " 'title_teacher',\n",
       " 'title_technician',\n",
       " 'title_truck driver',\n",
       " 'title_vice president',\n",
       " 'emp_length']"
      ]
     },
     "execution_count": 127,
     "metadata": {},
     "output_type": "execute_result"
    }
   ],
   "source": [
    "features_name.append('emp_length')\n",
    "features_name"
   ]
  },
  {
   "cell_type": "code",
   "execution_count": 129,
   "metadata": {},
   "outputs": [],
   "source": [
    "features_name.append('default')"
   ]
  },
  {
   "cell_type": "markdown",
   "metadata": {},
   "source": [
    "### Verification status"
   ]
  },
  {
   "cell_type": "code",
   "execution_count": 128,
   "metadata": {},
   "outputs": [
    {
     "data": {
      "text/plain": [
       "Source Verified    886231\n",
       "Not Verified       744806\n",
       "Verified           629631\n",
       "Name: verification_status, dtype: int64"
      ]
     },
     "execution_count": 128,
     "metadata": {},
     "output_type": "execute_result"
    }
   ],
   "source": [
    "df['verification_status'].value_counts()"
   ]
  },
  {
   "cell_type": "code",
   "execution_count": 130,
   "metadata": {},
   "outputs": [
    {
     "data": {
      "text/html": [
       "<div>\n",
       "<style scoped>\n",
       "    .dataframe tbody tr th:only-of-type {\n",
       "        vertical-align: middle;\n",
       "    }\n",
       "\n",
       "    .dataframe tbody tr th {\n",
       "        vertical-align: top;\n",
       "    }\n",
       "\n",
       "    .dataframe thead th {\n",
       "        text-align: right;\n",
       "    }\n",
       "</style>\n",
       "<table border=\"1\" class=\"dataframe\">\n",
       "  <thead>\n",
       "    <tr style=\"text-align: right;\">\n",
       "      <th></th>\n",
       "      <th>verif_Not Verified</th>\n",
       "      <th>verif_Source Verified</th>\n",
       "      <th>verif_Verified</th>\n",
       "    </tr>\n",
       "  </thead>\n",
       "  <tbody>\n",
       "    <tr>\n",
       "      <th>0</th>\n",
       "      <td>1</td>\n",
       "      <td>0</td>\n",
       "      <td>0</td>\n",
       "    </tr>\n",
       "    <tr>\n",
       "      <th>1</th>\n",
       "      <td>1</td>\n",
       "      <td>0</td>\n",
       "      <td>0</td>\n",
       "    </tr>\n",
       "    <tr>\n",
       "      <th>2</th>\n",
       "      <td>1</td>\n",
       "      <td>0</td>\n",
       "      <td>0</td>\n",
       "    </tr>\n",
       "    <tr>\n",
       "      <th>3</th>\n",
       "      <td>0</td>\n",
       "      <td>1</td>\n",
       "      <td>0</td>\n",
       "    </tr>\n",
       "    <tr>\n",
       "      <th>4</th>\n",
       "      <td>0</td>\n",
       "      <td>1</td>\n",
       "      <td>0</td>\n",
       "    </tr>\n",
       "    <tr>\n",
       "      <th>5</th>\n",
       "      <td>0</td>\n",
       "      <td>1</td>\n",
       "      <td>0</td>\n",
       "    </tr>\n",
       "    <tr>\n",
       "      <th>6</th>\n",
       "      <td>1</td>\n",
       "      <td>0</td>\n",
       "      <td>0</td>\n",
       "    </tr>\n",
       "    <tr>\n",
       "      <th>7</th>\n",
       "      <td>1</td>\n",
       "      <td>0</td>\n",
       "      <td>0</td>\n",
       "    </tr>\n",
       "    <tr>\n",
       "      <th>8</th>\n",
       "      <td>1</td>\n",
       "      <td>0</td>\n",
       "      <td>0</td>\n",
       "    </tr>\n",
       "    <tr>\n",
       "      <th>9</th>\n",
       "      <td>1</td>\n",
       "      <td>0</td>\n",
       "      <td>0</td>\n",
       "    </tr>\n",
       "  </tbody>\n",
       "</table>\n",
       "</div>"
      ],
      "text/plain": [
       "   verif_Not Verified  verif_Source Verified  verif_Verified\n",
       "0                   1                      0               0\n",
       "1                   1                      0               0\n",
       "2                   1                      0               0\n",
       "3                   0                      1               0\n",
       "4                   0                      1               0\n",
       "5                   0                      1               0\n",
       "6                   1                      0               0\n",
       "7                   1                      0               0\n",
       "8                   1                      0               0\n",
       "9                   1                      0               0"
      ]
     },
     "execution_count": 130,
     "metadata": {},
     "output_type": "execute_result"
    }
   ],
   "source": [
    "one_hot_verif_status = pd.get_dummies(df['verification_status'], prefix='verif')\n",
    "one_hot_verif_status.head(10)"
   ]
  },
  {
   "cell_type": "code",
   "execution_count": 131,
   "metadata": {},
   "outputs": [],
   "source": [
    "features_df.append(one_hot_verif_status)\n",
    "features_name += list(one_hot_verif_status.columns)"
   ]
  },
  {
   "cell_type": "code",
   "execution_count": 132,
   "metadata": {},
   "outputs": [
    {
     "data": {
      "text/plain": [
       "['sub_grade',\n",
       " 'annual_inc',\n",
       " 'home_MORTGAGE',\n",
       " 'home_OWN',\n",
       " 'home_RENT',\n",
       " 'home_UNKNOWN',\n",
       " 'title_account manager',\n",
       " 'title_accountant',\n",
       " 'title_administrative assistant',\n",
       " 'title_attorney',\n",
       " 'title_director',\n",
       " 'title_driver',\n",
       " 'title_engineer',\n",
       " 'title_general manager',\n",
       " 'title_manager',\n",
       " 'title_mechanic',\n",
       " 'title_nurse',\n",
       " 'title_office manager',\n",
       " 'title_operations manager',\n",
       " 'title_other',\n",
       " 'title_owner',\n",
       " 'title_police officer',\n",
       " 'title_president',\n",
       " 'title_project manager',\n",
       " 'title_registered nurse',\n",
       " 'title_sales',\n",
       " 'title_sales manager',\n",
       " 'title_server',\n",
       " 'title_store manager',\n",
       " 'title_supervisor',\n",
       " 'title_teacher',\n",
       " 'title_technician',\n",
       " 'title_truck driver',\n",
       " 'title_vice president',\n",
       " 'emp_length',\n",
       " 'default',\n",
       " 'verif_Not Verified',\n",
       " 'verif_Source Verified',\n",
       " 'verif_Verified']"
      ]
     },
     "execution_count": 132,
     "metadata": {},
     "output_type": "execute_result"
    }
   ],
   "source": [
    "features_name"
   ]
  },
  {
   "cell_type": "markdown",
   "metadata": {},
   "source": [
    "# Model learning"
   ]
  },
  {
   "cell_type": "code",
   "execution_count": 133,
   "metadata": {},
   "outputs": [
    {
     "data": {
      "text/plain": [
       "Index(['sub_grade', 'annual_inc', 'home_MORTGAGE', 'home_OWN', 'home_RENT',\n",
       "       'home_UNKNOWN', 'title_account manager', 'title_accountant',\n",
       "       'title_administrative assistant', 'title_attorney', 'title_director',\n",
       "       'title_driver', 'title_engineer', 'title_general manager',\n",
       "       'title_manager', 'title_mechanic', 'title_nurse',\n",
       "       'title_office manager', 'title_operations manager', 'title_other',\n",
       "       'title_owner', 'title_police officer', 'title_president',\n",
       "       'title_project manager', 'title_registered nurse', 'title_sales',\n",
       "       'title_sales manager', 'title_server', 'title_store manager',\n",
       "       'title_supervisor', 'title_teacher', 'title_technician',\n",
       "       'title_truck driver', 'title_vice president', 'emp_length', 'default',\n",
       "       'verif_Not Verified', 'verif_Source Verified', 'verif_Verified'],\n",
       "      dtype='object')"
      ]
     },
     "execution_count": 133,
     "metadata": {},
     "output_type": "execute_result"
    }
   ],
   "source": [
    "df_features = pd.concat(features_df, axis = 1)[features_name]\n",
    "df_features.columns"
   ]
  },
  {
   "cell_type": "code",
   "execution_count": 134,
   "metadata": {},
   "outputs": [
    {
     "data": {
      "text/html": [
       "<div>\n",
       "<style scoped>\n",
       "    .dataframe tbody tr th:only-of-type {\n",
       "        vertical-align: middle;\n",
       "    }\n",
       "\n",
       "    .dataframe tbody tr th {\n",
       "        vertical-align: top;\n",
       "    }\n",
       "\n",
       "    .dataframe thead th {\n",
       "        text-align: right;\n",
       "    }\n",
       "</style>\n",
       "<table border=\"1\" class=\"dataframe\">\n",
       "  <thead>\n",
       "    <tr style=\"text-align: right;\">\n",
       "      <th></th>\n",
       "      <th>sub_grade</th>\n",
       "      <th>annual_inc</th>\n",
       "      <th>home_MORTGAGE</th>\n",
       "      <th>home_OWN</th>\n",
       "      <th>home_RENT</th>\n",
       "      <th>home_UNKNOWN</th>\n",
       "      <th>title_account manager</th>\n",
       "      <th>title_accountant</th>\n",
       "      <th>title_administrative assistant</th>\n",
       "      <th>title_attorney</th>\n",
       "      <th>...</th>\n",
       "      <th>title_supervisor</th>\n",
       "      <th>title_teacher</th>\n",
       "      <th>title_technician</th>\n",
       "      <th>title_truck driver</th>\n",
       "      <th>title_vice president</th>\n",
       "      <th>emp_length</th>\n",
       "      <th>default</th>\n",
       "      <th>verif_Not Verified</th>\n",
       "      <th>verif_Source Verified</th>\n",
       "      <th>verif_Verified</th>\n",
       "    </tr>\n",
       "  </thead>\n",
       "  <tbody>\n",
       "    <tr>\n",
       "      <th>429946</th>\n",
       "      <td>13</td>\n",
       "      <td>38000.0</td>\n",
       "      <td>0</td>\n",
       "      <td>0</td>\n",
       "      <td>1</td>\n",
       "      <td>0</td>\n",
       "      <td>0</td>\n",
       "      <td>0</td>\n",
       "      <td>0</td>\n",
       "      <td>0</td>\n",
       "      <td>...</td>\n",
       "      <td>0</td>\n",
       "      <td>0</td>\n",
       "      <td>0</td>\n",
       "      <td>0</td>\n",
       "      <td>0</td>\n",
       "      <td>10.0</td>\n",
       "      <td>False</td>\n",
       "      <td>0</td>\n",
       "      <td>0</td>\n",
       "      <td>1</td>\n",
       "    </tr>\n",
       "    <tr>\n",
       "      <th>1471159</th>\n",
       "      <td>1</td>\n",
       "      <td>95000.0</td>\n",
       "      <td>1</td>\n",
       "      <td>0</td>\n",
       "      <td>0</td>\n",
       "      <td>0</td>\n",
       "      <td>0</td>\n",
       "      <td>0</td>\n",
       "      <td>0</td>\n",
       "      <td>0</td>\n",
       "      <td>...</td>\n",
       "      <td>0</td>\n",
       "      <td>0</td>\n",
       "      <td>0</td>\n",
       "      <td>0</td>\n",
       "      <td>0</td>\n",
       "      <td>10.0</td>\n",
       "      <td>False</td>\n",
       "      <td>0</td>\n",
       "      <td>1</td>\n",
       "      <td>0</td>\n",
       "    </tr>\n",
       "    <tr>\n",
       "      <th>457022</th>\n",
       "      <td>18</td>\n",
       "      <td>110000.0</td>\n",
       "      <td>0</td>\n",
       "      <td>0</td>\n",
       "      <td>1</td>\n",
       "      <td>0</td>\n",
       "      <td>0</td>\n",
       "      <td>0</td>\n",
       "      <td>0</td>\n",
       "      <td>0</td>\n",
       "      <td>...</td>\n",
       "      <td>0</td>\n",
       "      <td>0</td>\n",
       "      <td>0</td>\n",
       "      <td>0</td>\n",
       "      <td>0</td>\n",
       "      <td>10.0</td>\n",
       "      <td>True</td>\n",
       "      <td>0</td>\n",
       "      <td>1</td>\n",
       "      <td>0</td>\n",
       "    </tr>\n",
       "    <tr>\n",
       "      <th>1727012</th>\n",
       "      <td>10</td>\n",
       "      <td>42000.0</td>\n",
       "      <td>0</td>\n",
       "      <td>0</td>\n",
       "      <td>1</td>\n",
       "      <td>0</td>\n",
       "      <td>0</td>\n",
       "      <td>0</td>\n",
       "      <td>0</td>\n",
       "      <td>0</td>\n",
       "      <td>...</td>\n",
       "      <td>0</td>\n",
       "      <td>0</td>\n",
       "      <td>0</td>\n",
       "      <td>0</td>\n",
       "      <td>0</td>\n",
       "      <td>2.0</td>\n",
       "      <td>False</td>\n",
       "      <td>0</td>\n",
       "      <td>1</td>\n",
       "      <td>0</td>\n",
       "    </tr>\n",
       "    <tr>\n",
       "      <th>1008943</th>\n",
       "      <td>11</td>\n",
       "      <td>48000.0</td>\n",
       "      <td>0</td>\n",
       "      <td>0</td>\n",
       "      <td>1</td>\n",
       "      <td>0</td>\n",
       "      <td>0</td>\n",
       "      <td>0</td>\n",
       "      <td>0</td>\n",
       "      <td>0</td>\n",
       "      <td>...</td>\n",
       "      <td>0</td>\n",
       "      <td>0</td>\n",
       "      <td>0</td>\n",
       "      <td>0</td>\n",
       "      <td>0</td>\n",
       "      <td>1.0</td>\n",
       "      <td>False</td>\n",
       "      <td>0</td>\n",
       "      <td>1</td>\n",
       "      <td>0</td>\n",
       "    </tr>\n",
       "    <tr>\n",
       "      <th>746555</th>\n",
       "      <td>24</td>\n",
       "      <td>86028.8</td>\n",
       "      <td>0</td>\n",
       "      <td>0</td>\n",
       "      <td>1</td>\n",
       "      <td>0</td>\n",
       "      <td>0</td>\n",
       "      <td>0</td>\n",
       "      <td>0</td>\n",
       "      <td>0</td>\n",
       "      <td>...</td>\n",
       "      <td>0</td>\n",
       "      <td>0</td>\n",
       "      <td>0</td>\n",
       "      <td>0</td>\n",
       "      <td>0</td>\n",
       "      <td>5.0</td>\n",
       "      <td>False</td>\n",
       "      <td>0</td>\n",
       "      <td>0</td>\n",
       "      <td>1</td>\n",
       "    </tr>\n",
       "    <tr>\n",
       "      <th>382306</th>\n",
       "      <td>6</td>\n",
       "      <td>40000.0</td>\n",
       "      <td>1</td>\n",
       "      <td>0</td>\n",
       "      <td>0</td>\n",
       "      <td>0</td>\n",
       "      <td>0</td>\n",
       "      <td>0</td>\n",
       "      <td>0</td>\n",
       "      <td>0</td>\n",
       "      <td>...</td>\n",
       "      <td>0</td>\n",
       "      <td>0</td>\n",
       "      <td>0</td>\n",
       "      <td>0</td>\n",
       "      <td>0</td>\n",
       "      <td>6.0</td>\n",
       "      <td>False</td>\n",
       "      <td>0</td>\n",
       "      <td>0</td>\n",
       "      <td>1</td>\n",
       "    </tr>\n",
       "    <tr>\n",
       "      <th>567636</th>\n",
       "      <td>4</td>\n",
       "      <td>43000.0</td>\n",
       "      <td>1</td>\n",
       "      <td>0</td>\n",
       "      <td>0</td>\n",
       "      <td>0</td>\n",
       "      <td>0</td>\n",
       "      <td>0</td>\n",
       "      <td>0</td>\n",
       "      <td>0</td>\n",
       "      <td>...</td>\n",
       "      <td>0</td>\n",
       "      <td>1</td>\n",
       "      <td>0</td>\n",
       "      <td>0</td>\n",
       "      <td>0</td>\n",
       "      <td>0.0</td>\n",
       "      <td>False</td>\n",
       "      <td>0</td>\n",
       "      <td>1</td>\n",
       "      <td>0</td>\n",
       "    </tr>\n",
       "    <tr>\n",
       "      <th>81826</th>\n",
       "      <td>14</td>\n",
       "      <td>60000.0</td>\n",
       "      <td>0</td>\n",
       "      <td>0</td>\n",
       "      <td>1</td>\n",
       "      <td>0</td>\n",
       "      <td>0</td>\n",
       "      <td>0</td>\n",
       "      <td>0</td>\n",
       "      <td>0</td>\n",
       "      <td>...</td>\n",
       "      <td>0</td>\n",
       "      <td>0</td>\n",
       "      <td>0</td>\n",
       "      <td>0</td>\n",
       "      <td>0</td>\n",
       "      <td>7.0</td>\n",
       "      <td>False</td>\n",
       "      <td>0</td>\n",
       "      <td>0</td>\n",
       "      <td>1</td>\n",
       "    </tr>\n",
       "    <tr>\n",
       "      <th>1781031</th>\n",
       "      <td>28</td>\n",
       "      <td>45000.0</td>\n",
       "      <td>0</td>\n",
       "      <td>0</td>\n",
       "      <td>1</td>\n",
       "      <td>0</td>\n",
       "      <td>0</td>\n",
       "      <td>0</td>\n",
       "      <td>0</td>\n",
       "      <td>0</td>\n",
       "      <td>...</td>\n",
       "      <td>0</td>\n",
       "      <td>0</td>\n",
       "      <td>0</td>\n",
       "      <td>0</td>\n",
       "      <td>0</td>\n",
       "      <td>10.0</td>\n",
       "      <td>True</td>\n",
       "      <td>0</td>\n",
       "      <td>0</td>\n",
       "      <td>1</td>\n",
       "    </tr>\n",
       "  </tbody>\n",
       "</table>\n",
       "<p>10 rows × 39 columns</p>\n",
       "</div>"
      ],
      "text/plain": [
       "         sub_grade  annual_inc  home_MORTGAGE  home_OWN  home_RENT  \\\n",
       "429946          13     38000.0              0         0          1   \n",
       "1471159          1     95000.0              1         0          0   \n",
       "457022          18    110000.0              0         0          1   \n",
       "1727012         10     42000.0              0         0          1   \n",
       "1008943         11     48000.0              0         0          1   \n",
       "746555          24     86028.8              0         0          1   \n",
       "382306           6     40000.0              1         0          0   \n",
       "567636           4     43000.0              1         0          0   \n",
       "81826           14     60000.0              0         0          1   \n",
       "1781031         28     45000.0              0         0          1   \n",
       "\n",
       "         home_UNKNOWN  title_account manager  title_accountant  \\\n",
       "429946              0                      0                 0   \n",
       "1471159             0                      0                 0   \n",
       "457022              0                      0                 0   \n",
       "1727012             0                      0                 0   \n",
       "1008943             0                      0                 0   \n",
       "746555              0                      0                 0   \n",
       "382306              0                      0                 0   \n",
       "567636              0                      0                 0   \n",
       "81826               0                      0                 0   \n",
       "1781031             0                      0                 0   \n",
       "\n",
       "         title_administrative assistant  title_attorney  ...  \\\n",
       "429946                                0               0  ...   \n",
       "1471159                               0               0  ...   \n",
       "457022                                0               0  ...   \n",
       "1727012                               0               0  ...   \n",
       "1008943                               0               0  ...   \n",
       "746555                                0               0  ...   \n",
       "382306                                0               0  ...   \n",
       "567636                                0               0  ...   \n",
       "81826                                 0               0  ...   \n",
       "1781031                               0               0  ...   \n",
       "\n",
       "         title_supervisor  title_teacher  title_technician  \\\n",
       "429946                  0              0                 0   \n",
       "1471159                 0              0                 0   \n",
       "457022                  0              0                 0   \n",
       "1727012                 0              0                 0   \n",
       "1008943                 0              0                 0   \n",
       "746555                  0              0                 0   \n",
       "382306                  0              0                 0   \n",
       "567636                  0              1                 0   \n",
       "81826                   0              0                 0   \n",
       "1781031                 0              0                 0   \n",
       "\n",
       "         title_truck driver  title_vice president  emp_length  default  \\\n",
       "429946                    0                     0        10.0    False   \n",
       "1471159                   0                     0        10.0    False   \n",
       "457022                    0                     0        10.0     True   \n",
       "1727012                   0                     0         2.0    False   \n",
       "1008943                   0                     0         1.0    False   \n",
       "746555                    0                     0         5.0    False   \n",
       "382306                    0                     0         6.0    False   \n",
       "567636                    0                     0         0.0    False   \n",
       "81826                     0                     0         7.0    False   \n",
       "1781031                   0                     0        10.0     True   \n",
       "\n",
       "         verif_Not Verified  verif_Source Verified  verif_Verified  \n",
       "429946                    0                      0               1  \n",
       "1471159                   0                      1               0  \n",
       "457022                    0                      1               0  \n",
       "1727012                   0                      1               0  \n",
       "1008943                   0                      1               0  \n",
       "746555                    0                      0               1  \n",
       "382306                    0                      0               1  \n",
       "567636                    0                      1               0  \n",
       "81826                     0                      0               1  \n",
       "1781031                   0                      0               1  \n",
       "\n",
       "[10 rows x 39 columns]"
      ]
     },
     "execution_count": 134,
     "metadata": {},
     "output_type": "execute_result"
    }
   ],
   "source": [
    "df_features.sample(10)"
   ]
  },
  {
   "cell_type": "code",
   "execution_count": 136,
   "metadata": {},
   "outputs": [
    {
     "data": {
      "text/plain": [
       "sub_grade                              0\n",
       "annual_inc                             4\n",
       "home_MORTGAGE                          0\n",
       "home_OWN                               0\n",
       "home_RENT                              0\n",
       "home_UNKNOWN                           0\n",
       "title_account manager                  0\n",
       "title_accountant                       0\n",
       "title_administrative assistant         0\n",
       "title_attorney                         0\n",
       "title_director                         0\n",
       "title_driver                           0\n",
       "title_engineer                         0\n",
       "title_general manager                  0\n",
       "title_manager                          0\n",
       "title_mechanic                         0\n",
       "title_nurse                            0\n",
       "title_office manager                   0\n",
       "title_operations manager               0\n",
       "title_other                            0\n",
       "title_owner                            0\n",
       "title_police officer                   0\n",
       "title_president                        0\n",
       "title_project manager                  0\n",
       "title_registered nurse                 0\n",
       "title_sales                            0\n",
       "title_sales manager                    0\n",
       "title_server                           0\n",
       "title_store manager                    0\n",
       "title_supervisor                       0\n",
       "title_teacher                          0\n",
       "title_technician                       0\n",
       "title_truck driver                     0\n",
       "title_vice president                   0\n",
       "emp_length                        146907\n",
       "default                                0\n",
       "verif_Not Verified                     0\n",
       "verif_Source Verified                  0\n",
       "verif_Verified                         0\n",
       "dtype: int64"
      ]
     },
     "execution_count": 136,
     "metadata": {},
     "output_type": "execute_result"
    }
   ],
   "source": [
    "missing=df_features.isna().sum()\n",
    "missing"
   ]
  },
  {
   "cell_type": "code",
   "execution_count": 138,
   "metadata": {},
   "outputs": [],
   "source": [
    "df_features.dropna(inplace=True)"
   ]
  },
  {
   "cell_type": "code",
   "execution_count": 140,
   "metadata": {},
   "outputs": [
    {
     "data": {
      "text/plain": [
       "(2113757, 39)"
      ]
     },
     "execution_count": 140,
     "metadata": {},
     "output_type": "execute_result"
    }
   ],
   "source": [
    "df_features.shape"
   ]
  },
  {
   "cell_type": "markdown",
   "metadata": {},
   "source": [
    "## Splitting dataset into training and testing subset"
   ]
  },
  {
   "cell_type": "code",
   "execution_count": 141,
   "metadata": {},
   "outputs": [
    {
     "data": {
      "text/html": [
       "<div>\n",
       "<style scoped>\n",
       "    .dataframe tbody tr th:only-of-type {\n",
       "        vertical-align: middle;\n",
       "    }\n",
       "\n",
       "    .dataframe tbody tr th {\n",
       "        vertical-align: top;\n",
       "    }\n",
       "\n",
       "    .dataframe thead th {\n",
       "        text-align: right;\n",
       "    }\n",
       "</style>\n",
       "<table border=\"1\" class=\"dataframe\">\n",
       "  <thead>\n",
       "    <tr style=\"text-align: right;\">\n",
       "      <th></th>\n",
       "      <th>sub_grade</th>\n",
       "      <th>annual_inc</th>\n",
       "      <th>home_MORTGAGE</th>\n",
       "      <th>home_OWN</th>\n",
       "      <th>home_RENT</th>\n",
       "      <th>home_UNKNOWN</th>\n",
       "      <th>title_account manager</th>\n",
       "      <th>title_accountant</th>\n",
       "      <th>title_administrative assistant</th>\n",
       "      <th>title_attorney</th>\n",
       "      <th>...</th>\n",
       "      <th>title_store manager</th>\n",
       "      <th>title_supervisor</th>\n",
       "      <th>title_teacher</th>\n",
       "      <th>title_technician</th>\n",
       "      <th>title_truck driver</th>\n",
       "      <th>title_vice president</th>\n",
       "      <th>emp_length</th>\n",
       "      <th>verif_Not Verified</th>\n",
       "      <th>verif_Source Verified</th>\n",
       "      <th>verif_Verified</th>\n",
       "    </tr>\n",
       "  </thead>\n",
       "  <tbody>\n",
       "    <tr>\n",
       "      <th>0</th>\n",
       "      <td>14</td>\n",
       "      <td>55000.0</td>\n",
       "      <td>1</td>\n",
       "      <td>0</td>\n",
       "      <td>0</td>\n",
       "      <td>0</td>\n",
       "      <td>0</td>\n",
       "      <td>0</td>\n",
       "      <td>0</td>\n",
       "      <td>0</td>\n",
       "      <td>...</td>\n",
       "      <td>0</td>\n",
       "      <td>0</td>\n",
       "      <td>0</td>\n",
       "      <td>0</td>\n",
       "      <td>0</td>\n",
       "      <td>0</td>\n",
       "      <td>10.0</td>\n",
       "      <td>1</td>\n",
       "      <td>0</td>\n",
       "      <td>0</td>\n",
       "    </tr>\n",
       "    <tr>\n",
       "      <th>1</th>\n",
       "      <td>11</td>\n",
       "      <td>65000.0</td>\n",
       "      <td>1</td>\n",
       "      <td>0</td>\n",
       "      <td>0</td>\n",
       "      <td>0</td>\n",
       "      <td>0</td>\n",
       "      <td>0</td>\n",
       "      <td>0</td>\n",
       "      <td>0</td>\n",
       "      <td>...</td>\n",
       "      <td>0</td>\n",
       "      <td>0</td>\n",
       "      <td>0</td>\n",
       "      <td>0</td>\n",
       "      <td>0</td>\n",
       "      <td>0</td>\n",
       "      <td>10.0</td>\n",
       "      <td>1</td>\n",
       "      <td>0</td>\n",
       "      <td>0</td>\n",
       "    </tr>\n",
       "    <tr>\n",
       "      <th>2</th>\n",
       "      <td>9</td>\n",
       "      <td>63000.0</td>\n",
       "      <td>1</td>\n",
       "      <td>0</td>\n",
       "      <td>0</td>\n",
       "      <td>0</td>\n",
       "      <td>0</td>\n",
       "      <td>0</td>\n",
       "      <td>0</td>\n",
       "      <td>0</td>\n",
       "      <td>...</td>\n",
       "      <td>0</td>\n",
       "      <td>0</td>\n",
       "      <td>0</td>\n",
       "      <td>0</td>\n",
       "      <td>1</td>\n",
       "      <td>0</td>\n",
       "      <td>10.0</td>\n",
       "      <td>1</td>\n",
       "      <td>0</td>\n",
       "      <td>0</td>\n",
       "    </tr>\n",
       "    <tr>\n",
       "      <th>3</th>\n",
       "      <td>15</td>\n",
       "      <td>110000.0</td>\n",
       "      <td>1</td>\n",
       "      <td>0</td>\n",
       "      <td>0</td>\n",
       "      <td>0</td>\n",
       "      <td>0</td>\n",
       "      <td>0</td>\n",
       "      <td>0</td>\n",
       "      <td>0</td>\n",
       "      <td>...</td>\n",
       "      <td>0</td>\n",
       "      <td>0</td>\n",
       "      <td>0</td>\n",
       "      <td>0</td>\n",
       "      <td>0</td>\n",
       "      <td>0</td>\n",
       "      <td>10.0</td>\n",
       "      <td>0</td>\n",
       "      <td>1</td>\n",
       "      <td>0</td>\n",
       "    </tr>\n",
       "    <tr>\n",
       "      <th>4</th>\n",
       "      <td>26</td>\n",
       "      <td>104433.0</td>\n",
       "      <td>1</td>\n",
       "      <td>0</td>\n",
       "      <td>0</td>\n",
       "      <td>0</td>\n",
       "      <td>0</td>\n",
       "      <td>0</td>\n",
       "      <td>0</td>\n",
       "      <td>0</td>\n",
       "      <td>...</td>\n",
       "      <td>0</td>\n",
       "      <td>0</td>\n",
       "      <td>0</td>\n",
       "      <td>0</td>\n",
       "      <td>0</td>\n",
       "      <td>0</td>\n",
       "      <td>3.0</td>\n",
       "      <td>0</td>\n",
       "      <td>1</td>\n",
       "      <td>0</td>\n",
       "    </tr>\n",
       "    <tr>\n",
       "      <th>...</th>\n",
       "      <td>...</td>\n",
       "      <td>...</td>\n",
       "      <td>...</td>\n",
       "      <td>...</td>\n",
       "      <td>...</td>\n",
       "      <td>...</td>\n",
       "      <td>...</td>\n",
       "      <td>...</td>\n",
       "      <td>...</td>\n",
       "      <td>...</td>\n",
       "      <td>...</td>\n",
       "      <td>...</td>\n",
       "      <td>...</td>\n",
       "      <td>...</td>\n",
       "      <td>...</td>\n",
       "      <td>...</td>\n",
       "      <td>...</td>\n",
       "      <td>...</td>\n",
       "      <td>...</td>\n",
       "      <td>...</td>\n",
       "      <td>...</td>\n",
       "    </tr>\n",
       "    <tr>\n",
       "      <th>2260694</th>\n",
       "      <td>11</td>\n",
       "      <td>95000.0</td>\n",
       "      <td>1</td>\n",
       "      <td>0</td>\n",
       "      <td>0</td>\n",
       "      <td>0</td>\n",
       "      <td>0</td>\n",
       "      <td>0</td>\n",
       "      <td>0</td>\n",
       "      <td>0</td>\n",
       "      <td>...</td>\n",
       "      <td>0</td>\n",
       "      <td>0</td>\n",
       "      <td>0</td>\n",
       "      <td>0</td>\n",
       "      <td>0</td>\n",
       "      <td>0</td>\n",
       "      <td>7.0</td>\n",
       "      <td>0</td>\n",
       "      <td>1</td>\n",
       "      <td>0</td>\n",
       "    </tr>\n",
       "    <tr>\n",
       "      <th>2260695</th>\n",
       "      <td>8</td>\n",
       "      <td>108000.0</td>\n",
       "      <td>1</td>\n",
       "      <td>0</td>\n",
       "      <td>0</td>\n",
       "      <td>0</td>\n",
       "      <td>0</td>\n",
       "      <td>0</td>\n",
       "      <td>0</td>\n",
       "      <td>0</td>\n",
       "      <td>...</td>\n",
       "      <td>0</td>\n",
       "      <td>0</td>\n",
       "      <td>0</td>\n",
       "      <td>0</td>\n",
       "      <td>0</td>\n",
       "      <td>0</td>\n",
       "      <td>10.0</td>\n",
       "      <td>1</td>\n",
       "      <td>0</td>\n",
       "      <td>0</td>\n",
       "    </tr>\n",
       "    <tr>\n",
       "      <th>2260696</th>\n",
       "      <td>8</td>\n",
       "      <td>227000.0</td>\n",
       "      <td>1</td>\n",
       "      <td>0</td>\n",
       "      <td>0</td>\n",
       "      <td>0</td>\n",
       "      <td>0</td>\n",
       "      <td>0</td>\n",
       "      <td>0</td>\n",
       "      <td>0</td>\n",
       "      <td>...</td>\n",
       "      <td>0</td>\n",
       "      <td>0</td>\n",
       "      <td>0</td>\n",
       "      <td>0</td>\n",
       "      <td>0</td>\n",
       "      <td>0</td>\n",
       "      <td>9.0</td>\n",
       "      <td>0</td>\n",
       "      <td>0</td>\n",
       "      <td>1</td>\n",
       "    </tr>\n",
       "    <tr>\n",
       "      <th>2260697</th>\n",
       "      <td>14</td>\n",
       "      <td>110000.0</td>\n",
       "      <td>0</td>\n",
       "      <td>0</td>\n",
       "      <td>1</td>\n",
       "      <td>0</td>\n",
       "      <td>0</td>\n",
       "      <td>0</td>\n",
       "      <td>0</td>\n",
       "      <td>0</td>\n",
       "      <td>...</td>\n",
       "      <td>0</td>\n",
       "      <td>0</td>\n",
       "      <td>0</td>\n",
       "      <td>0</td>\n",
       "      <td>0</td>\n",
       "      <td>0</td>\n",
       "      <td>6.0</td>\n",
       "      <td>1</td>\n",
       "      <td>0</td>\n",
       "      <td>0</td>\n",
       "    </tr>\n",
       "    <tr>\n",
       "      <th>2260698</th>\n",
       "      <td>14</td>\n",
       "      <td>95000.0</td>\n",
       "      <td>1</td>\n",
       "      <td>0</td>\n",
       "      <td>0</td>\n",
       "      <td>0</td>\n",
       "      <td>0</td>\n",
       "      <td>0</td>\n",
       "      <td>0</td>\n",
       "      <td>0</td>\n",
       "      <td>...</td>\n",
       "      <td>0</td>\n",
       "      <td>0</td>\n",
       "      <td>0</td>\n",
       "      <td>0</td>\n",
       "      <td>0</td>\n",
       "      <td>0</td>\n",
       "      <td>10.0</td>\n",
       "      <td>0</td>\n",
       "      <td>0</td>\n",
       "      <td>1</td>\n",
       "    </tr>\n",
       "  </tbody>\n",
       "</table>\n",
       "<p>2113757 rows × 38 columns</p>\n",
       "</div>"
      ],
      "text/plain": [
       "         sub_grade  annual_inc  home_MORTGAGE  home_OWN  home_RENT  \\\n",
       "0               14     55000.0              1         0          0   \n",
       "1               11     65000.0              1         0          0   \n",
       "2                9     63000.0              1         0          0   \n",
       "3               15    110000.0              1         0          0   \n",
       "4               26    104433.0              1         0          0   \n",
       "...            ...         ...            ...       ...        ...   \n",
       "2260694         11     95000.0              1         0          0   \n",
       "2260695          8    108000.0              1         0          0   \n",
       "2260696          8    227000.0              1         0          0   \n",
       "2260697         14    110000.0              0         0          1   \n",
       "2260698         14     95000.0              1         0          0   \n",
       "\n",
       "         home_UNKNOWN  title_account manager  title_accountant  \\\n",
       "0                   0                      0                 0   \n",
       "1                   0                      0                 0   \n",
       "2                   0                      0                 0   \n",
       "3                   0                      0                 0   \n",
       "4                   0                      0                 0   \n",
       "...               ...                    ...               ...   \n",
       "2260694             0                      0                 0   \n",
       "2260695             0                      0                 0   \n",
       "2260696             0                      0                 0   \n",
       "2260697             0                      0                 0   \n",
       "2260698             0                      0                 0   \n",
       "\n",
       "         title_administrative assistant  title_attorney  ...  \\\n",
       "0                                     0               0  ...   \n",
       "1                                     0               0  ...   \n",
       "2                                     0               0  ...   \n",
       "3                                     0               0  ...   \n",
       "4                                     0               0  ...   \n",
       "...                                 ...             ...  ...   \n",
       "2260694                               0               0  ...   \n",
       "2260695                               0               0  ...   \n",
       "2260696                               0               0  ...   \n",
       "2260697                               0               0  ...   \n",
       "2260698                               0               0  ...   \n",
       "\n",
       "         title_store manager  title_supervisor  title_teacher  \\\n",
       "0                          0                 0              0   \n",
       "1                          0                 0              0   \n",
       "2                          0                 0              0   \n",
       "3                          0                 0              0   \n",
       "4                          0                 0              0   \n",
       "...                      ...               ...            ...   \n",
       "2260694                    0                 0              0   \n",
       "2260695                    0                 0              0   \n",
       "2260696                    0                 0              0   \n",
       "2260697                    0                 0              0   \n",
       "2260698                    0                 0              0   \n",
       "\n",
       "         title_technician  title_truck driver  title_vice president  \\\n",
       "0                       0                   0                     0   \n",
       "1                       0                   0                     0   \n",
       "2                       0                   1                     0   \n",
       "3                       0                   0                     0   \n",
       "4                       0                   0                     0   \n",
       "...                   ...                 ...                   ...   \n",
       "2260694                 0                   0                     0   \n",
       "2260695                 0                   0                     0   \n",
       "2260696                 0                   0                     0   \n",
       "2260697                 0                   0                     0   \n",
       "2260698                 0                   0                     0   \n",
       "\n",
       "         emp_length  verif_Not Verified  verif_Source Verified  verif_Verified  \n",
       "0              10.0                   1                      0               0  \n",
       "1              10.0                   1                      0               0  \n",
       "2              10.0                   1                      0               0  \n",
       "3              10.0                   0                      1               0  \n",
       "4               3.0                   0                      1               0  \n",
       "...             ...                 ...                    ...             ...  \n",
       "2260694         7.0                   0                      1               0  \n",
       "2260695        10.0                   1                      0               0  \n",
       "2260696         9.0                   0                      0               1  \n",
       "2260697         6.0                   1                      0               0  \n",
       "2260698        10.0                   0                      0               1  \n",
       "\n",
       "[2113757 rows x 38 columns]"
      ]
     },
     "execution_count": 141,
     "metadata": {},
     "output_type": "execute_result"
    }
   ],
   "source": [
    "df_features.loc[:,df_features.columns != 'default']"
   ]
  },
  {
   "cell_type": "code",
   "execution_count": 142,
   "metadata": {},
   "outputs": [],
   "source": [
    "X_train, X_test, y_train, y_test = train_test_split(df_features.loc[:,df_features.columns != 'default'], df_features['default'], test_size=0.3)"
   ]
  },
  {
   "cell_type": "code",
   "execution_count": 143,
   "metadata": {},
   "outputs": [
    {
     "data": {
      "text/plain": [
       "(1479629, 38)"
      ]
     },
     "execution_count": 143,
     "metadata": {},
     "output_type": "execute_result"
    }
   ],
   "source": [
    "X_train.shape"
   ]
  },
  {
   "cell_type": "code",
   "execution_count": 145,
   "metadata": {},
   "outputs": [
    {
     "data": {
      "text/plain": [
       "True"
      ]
     },
     "execution_count": 145,
     "metadata": {},
     "output_type": "execute_result"
    }
   ],
   "source": [
    "'default' not in X_train.columns"
   ]
  },
  {
   "cell_type": "markdown",
   "metadata": {},
   "source": [
    "## Learning the decision tree"
   ]
  },
  {
   "cell_type": "markdown",
   "metadata": {},
   "source": [
    "We use the scikit leanr `DecisionTreeClassifier` algorithm, one of the most basic and simple machine learning algorithm. Let's go and train it with our trainning data."
   ]
  },
  {
   "cell_type": "code",
   "execution_count": 146,
   "metadata": {},
   "outputs": [],
   "source": [
    "clf = tree.DecisionTreeClassifier(min_samples_split=10000)\n",
    "clf = clf.fit(X_train, y_train)"
   ]
  },
  {
   "cell_type": "markdown",
   "metadata": {},
   "source": [
    "Let's see how this tree looks like (at leat the first 3 levels) with a builtin tree visualisation tool."
   ]
  },
  {
   "cell_type": "code",
   "execution_count": 149,
   "metadata": {},
   "outputs": [
    {
     "data": {
      "text/plain": [
       "[Text(0.5, 0.9, 'sub_grade <= 13.5\\ngini = 0.221\\nsamples = 100.0%\\nvalue = [0.874, 0.126]'),\n",
       " Text(0.25, 0.7, 'sub_grade <= 7.5\\ngini = 0.151\\nsamples = 66.5%\\nvalue = [0.918, 0.082]'),\n",
       " Text(0.125, 0.5, 'sub_grade <= 4.5\\ngini = 0.088\\nsamples = 30.3%\\nvalue = [0.954, 0.046]'),\n",
       " Text(0.0625, 0.3, 'sub_grade <= 3.5\\ngini = 0.055\\nsamples = 14.4%\\nvalue = [0.971, 0.029]'),\n",
       " Text(0.03125, 0.1, '\\n  (...)  \\n'),\n",
       " Text(0.09375, 0.1, '\\n  (...)  \\n'),\n",
       " Text(0.1875, 0.3, 'home_MORTGAGE <= 0.5\\ngini = 0.117\\nsamples = 15.9%\\nvalue = [0.938, 0.062]'),\n",
       " Text(0.15625, 0.1, '\\n  (...)  \\n'),\n",
       " Text(0.21875, 0.1, '\\n  (...)  \\n'),\n",
       " Text(0.375, 0.5, 'sub_grade <= 10.5\\ngini = 0.2\\nsamples = 36.1%\\nvalue = [0.887, 0.113]'),\n",
       " Text(0.3125, 0.3, 'home_RENT <= 0.5\\ngini = 0.172\\nsamples = 18.2%\\nvalue = [0.905, 0.095]'),\n",
       " Text(0.28125, 0.1, '\\n  (...)  \\n'),\n",
       " Text(0.34375, 0.1, '\\n  (...)  \\n'),\n",
       " Text(0.4375, 0.3, 'home_RENT <= 0.5\\ngini = 0.226\\nsamples = 18.0%\\nvalue = [0.87, 0.13]'),\n",
       " Text(0.40625, 0.1, '\\n  (...)  \\n'),\n",
       " Text(0.46875, 0.1, '\\n  (...)  \\n'),\n",
       " Text(0.75, 0.7, 'sub_grade <= 20.5\\ngini = 0.337\\nsamples = 33.5%\\nvalue = [0.786, 0.214]'),\n",
       " Text(0.625, 0.5, 'sub_grade <= 15.5\\ngini = 0.299\\nsamples = 25.1%\\nvalue = [0.817, 0.183]'),\n",
       " Text(0.5625, 0.3, 'home_RENT <= 0.5\\ngini = 0.269\\nsamples = 10.8%\\nvalue = [0.84, 0.16]'),\n",
       " Text(0.53125, 0.1, '\\n  (...)  \\n'),\n",
       " Text(0.59375, 0.1, '\\n  (...)  \\n'),\n",
       " Text(0.6875, 0.3, 'default <= 0.5\\ngini = 0.32\\nsamples = 14.3%\\nvalue = [0.8, 0.2]'),\n",
       " Text(0.65625, 0.1, '\\n  (...)  \\n'),\n",
       " Text(0.71875, 0.1, '\\n  (...)  \\n'),\n",
       " Text(0.875, 0.5, 'sub_grade <= 26.5\\ngini = 0.426\\nsamples = 8.4%\\nvalue = [0.693, 0.307]'),\n",
       " Text(0.8125, 0.3, 'default <= 0.5\\ngini = 0.408\\nsamples = 6.6%\\nvalue = [0.714, 0.286]'),\n",
       " Text(0.78125, 0.1, '\\n  (...)  \\n'),\n",
       " Text(0.84375, 0.1, '\\n  (...)  \\n'),\n",
       " Text(0.9375, 0.3, 'annual_inc <= 101928.5\\ngini = 0.473\\nsamples = 1.8%\\nvalue = [0.616, 0.384]'),\n",
       " Text(0.90625, 0.1, '\\n  (...)  \\n'),\n",
       " Text(0.96875, 0.1, '\\n  (...)  \\n')]"
      ]
     },
     "execution_count": 149,
     "metadata": {},
     "output_type": "execute_result"
    },
    {
     "data": {
      "image/png": "[encoded data removed]",
      "text/plain": [
       "<Figure size 1440x720 with 1 Axes>"
      ]
     },
     "metadata": {
      "needs_background": "light"
     },
     "output_type": "display_data"
    }
   ],
   "source": [
    "plt.figure(figsize=(20,10))\n",
    "tree.plot_tree(clf, feature_names=features_name, fontsize=8, proportion=True, filled=True, max_depth=3)"
   ]
  },
  {
   "cell_type": "markdown",
   "metadata": {},
   "source": [
    "## Performance of the model\n",
    "To check the performance of the model, we use the ROC curve, which gives an idea of how much we beat the random guess that will happen if we had no information.\n",
    "So what is important is the AUC, or \"Area Under the Curve\", and expresses how much of this curve is growing steeply and quickly  towards 1. The slower it grows, the worse the prediction.\n",
    "\n",
    "In a nutshell:\n",
    "* AUC = 0.50 model is as good as a random guess.\n",
    "* AUC = 0.75 average quality model\n",
    "* AUC = 0.80 - 0.90 typical figures for a good model, not rare to get to these levels with good data and some time\n",
    "* AUC = 1.00 Most likely you included a 1:1 variable related to the target. "
   ]
  },
  {
   "cell_type": "code",
   "execution_count": 150,
   "metadata": {},
   "outputs": [
    {
     "name": "stderr",
     "output_type": "stream",
     "text": [
      "c:\\Users\\jjsal\\AppData\\Local\\Programs\\Python\\Python38\\lib\\site-packages\\sklearn\\utils\\deprecation.py:87: FutureWarning: Function plot_roc_curve is deprecated; Function :func:`plot_roc_curve` is deprecated in 1.0 and will be removed in 1.2. Use one of the class methods: :meth:`sklearn.metric.RocCurveDisplay.from_predictions` or :meth:`sklearn.metric.RocCurveDisplay.from_estimator`.\n",
      "  warnings.warn(msg, category=FutureWarning)\n"
     ]
    },
    {
     "data": {
      "text/plain": [
       "<sklearn.metrics._plot.roc_curve.RocCurveDisplay at 0x295a9caddc0>"
      ]
     },
     "execution_count": 150,
     "metadata": {},
     "output_type": "execute_result"
    },
    {
     "data": {
      "image/png": "[encoded data removed]",
      "text/plain": [
       "<Figure size 432x288 with 1 Axes>"
      ]
     },
     "metadata": {
      "needs_background": "light"
     },
     "output_type": "display_data"
    }
   ],
   "source": [
    "plot_roc_curve(clf,X_test,y_test)"
   ]
  },
  {
   "cell_type": "code",
   "execution_count": 154,
   "metadata": {},
   "outputs": [],
   "source": [
    "y_pred  = clf.predict_proba(X_test)\n",
    "y_pred2 = clf.predict_proba(X_train)"
   ]
  },
  {
   "cell_type": "code",
   "execution_count": 155,
   "metadata": {},
   "outputs": [],
   "source": [
    "fpr, tpr, thresholds = roc_curve(y_test*1,y_pred[:,1])"
   ]
  },
  {
   "cell_type": "code",
   "execution_count": 156,
   "metadata": {},
   "outputs": [
    {
     "name": "stdout",
     "output_type": "stream",
     "text": [
      "0.6978380122176957\n"
     ]
    }
   ],
   "source": [
    "print(roc_auc_score(y_test*1, y_pred[:,1]))"
   ]
  },
  {
   "cell_type": "code",
   "execution_count": 157,
   "metadata": {},
   "outputs": [
    {
     "name": "stdout",
     "output_type": "stream",
     "text": [
      "0.7027562051419449\n"
     ]
    }
   ],
   "source": [
    "print(roc_auc_score(y_train*1, y_pred2[:,1]))"
   ]
  },
  {
   "cell_type": "code",
   "execution_count": null,
   "metadata": {},
   "outputs": [],
   "source": []
  }
 ],
 "metadata": {
  "kernelspec": {
   "display_name": "Python 3.8.0 64-bit",
   "language": "python",
   "name": "python3"
  },
  "language_info": {
   "codemirror_mode": {
    "name": "ipython",
    "version": 3
   },
   "file_extension": ".py",
   "mimetype": "text/x-python",
   "name": "python",
   "nbconvert_exporter": "python",
   "pygments_lexer": "ipython3",
   "version": "3.8.0"
  },
  "orig_nbformat": 4,
  "vscode": {
   "interpreter": {
    "hash": "42003495e4f52f90251880b600fdf705e7e9346dbb8a1b88d5bb3f316b4e8dcd"
   }
  }
 },
 "nbformat": 4,
 "nbformat_minor": 2
}
